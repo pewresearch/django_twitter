{
 "cells": [
  {
   "cell_type": "code",
   "execution_count": 1,
   "metadata": {},
   "outputs": [
    {
     "name": "stderr",
     "output_type": "stream",
     "text": [
      "Creating test database for alias 'default'...\n",
      "Got an error creating the test database: database \"test_postgres\" already exists\n",
      "\n"
     ]
    },
    {
     "name": "stdout",
     "output_type": "stream",
     "text": [
      "Type 'yes' if you would like to try deleting the test database 'test_postgres', or 'no' to cancel: yes\n"
     ]
    },
    {
     "name": "stderr",
     "output_type": "stream",
     "text": [
      "Destroying old test database for alias 'default'...\n"
     ]
    }
   ],
   "source": [
    "# For future reference, this is how we can set up the test database in a notebook, for examples\n",
    "\n",
    "import sys, os\n",
    "DJANGO_LOCATION = \"/Users/pvankessel/.pyenv/versions/3.6.5/envs/python3/lib/python3.6/site-packages\"\n",
    "sys.path.append(DJANGO_LOCATION)\n",
    "import django\n",
    "os.environ[\"DJANGO_ALLOW_ASYNC_UNSAFE\"] = \"true\"\n",
    "os.environ['DJANGO_SETTINGS_MODULE'] = 'testapp.settings'\n",
    "django.setup()\n",
    "\n",
    "from django import test\n",
    "from django.db import connection\n",
    "test.utils.setup_test_environment() # Setup the environment\n",
    "db = connection.creation.create_test_db() # Create the test db\n",
    "\n",
    "from testapp.tests import DjangoTwitterTests\n",
    "DjangoTwitterTests().setUp()"
   ]
  },
  {
   "cell_type": "markdown",
   "metadata": {},
   "source": [
    "# Django Twitter\n",
    "\n",
    "Django Twitter is designed to make it easy to collect and store data from Twitter in a database, using Django.\n",
    "It is layered on top of Pewhooks - our collection of Python utilities for interfacing with various APIs, including\n",
    "Twitter - and provides a set of standardized abstract Django models and Django commands for querying the Twitter\n",
    "API and storing the data you get back.\n",
    "\n",
    "## Configuration\n",
    "\n",
    "In the following examples, we have a test app set up that has Django Twitter installed like so:\n",
    "\n",
    "### settings.py\n",
    "```python\n",
    "INSTALLED_APPS = [\n",
    "    \"django.contrib.auth\",\n",
    "    \"django.contrib.contenttypes\",\n",
    "    \"django.contrib.sites\",\n",
    "    \"django_twitter\",\n",
    "    \"testapp\",\n",
    "]\n",
    "TWITTER_APP = \"testapp\"\n",
    "```\n",
    "\n",
    "And in our app's `models.py` file, we import all of the abstract models that Django Twitter provides, and create them as concrete models in our own app. The abstract models define a \"template\" for how to store Twitter data, but the tables will be created for and belong to our own app. You'll also notice that we have two other tables in our app - `Person` and `Organization`. What's nice about Django Twitter providing _abstract_ models is that you can build on the model templates and extend them with additional data however you like. In our app, we're going to add some additional metadata on who owns each Twitter account, and store that info in other custom tables in our app.\n",
    "\n",
    "### models.py\n",
    "\n",
    "```python\n",
    "from django.db import models\n",
    "from django_twitter.models import *\n",
    "\n",
    "class Person(models.Model):\n",
    "    name = models.CharField(max_length=250)\n",
    "    \n",
    "class Organization(models.Model):\n",
    "    name = models.CharField(max_length=250)\n",
    "\n",
    "class TwitterProfile(AbstractTwitterProfile):\n",
    "\n",
    "    person = models.ForeignKey(\n",
    "        \"testapp.Person\",\n",
    "        related_name=\"twitter_profiles\",\n",
    "        null=True,\n",
    "        on_delete=models.SET_NULL,\n",
    "    )\n",
    "    organization = models.ForeignKey(\n",
    "        \"testapp.Organization\",\n",
    "        related_name=\"twitter_profiles\",\n",
    "        null=True,\n",
    "        on_delete=models.SET_NULL,\n",
    "    )\n",
    "\n",
    "class TwitterProfileSnapshot(AbstractTwitterProfileSnapshot):\n",
    "    pass\n",
    "\n",
    "class Tweet(AbstractTweet):\n",
    "    pass\n",
    "\n",
    "class TwitterFollowerList(AbstractTwitterFollowerList):\n",
    "    pass\n",
    "\n",
    "class TwitterFollowingList(AbstractTwitterFollowingList):\n",
    "    pass\n",
    "\n",
    "class TwitterHashtag(AbstractTwitterHashtag):\n",
    "    pass\n",
    "\n",
    "class TwitterPlace(AbstractTwitterPlace):\n",
    "    pass\n",
    "\n",
    "class TweetSet(AbstractTweetSet):\n",
    "    pass\n",
    "\n",
    "class TwitterProfileSet(AbstractTwitterProfileSet):\n",
    "    pass\n",
    "```\n",
    "\n",
    "Finally, we're going to grab our Twitter credentials and save them as environment variables. Django Twitter allows you to manually pass your Twitter credentials to all of its data collection commands, but it's much easier to take advantage of Pewhooks' support for environment variables and let it fetch them automatically. The variables it needs are `TWITTER_API_KEY`, `TWITTER_API_SECRET`, `TWITTER_API_ACCESS_TOKEN`, `TWITTER_API_ACCESS_SECRET`.\n",
    "\n",
    "With our credentials set and the above two files figured out, we've now got Django Twitter all configured. We just need to run `python manage.py makemigrations testapp` and `python manage.py migrate` to actually create the tables, and then we're ready to load in some data! Below is the list of accounts we're going to track."
   ]
  },
  {
   "cell_type": "markdown",
   "metadata": {},
   "source": [
    "## Adding accounts and downloading profile data"
   ]
  },
  {
   "cell_type": "code",
   "execution_count": 2,
   "metadata": {},
   "outputs": [],
   "source": [
    "MY_ACCOUNTS = [\n",
    "    \"pewresearch\",\n",
    "    \"pewglobal\",\n",
    "    \"pewmethods\",\n",
    "    \"pewjournalism\",\n",
    "    \"facttank\",\n",
    "    \"pewscience\",\n",
    "    \"pewreligion\",\n",
    "    \"pewhispanic\",\n",
    "    \"pewinternet\",\n",
    "    \"pvankessel\",\n",
    "    \"justinbieber\",\n",
    "]"
   ]
  },
  {
   "cell_type": "markdown",
   "metadata": {},
   "source": [
    "Django Twitter provides a bunch of built-in management commands that make it easy to collect Twitter data. If we wanted to start pulling in data for these profiles, we could run the following command from the CLI and Django Twitter would hit the API and store the results in the database:\n",
    "\n",
    "`python manage.py django_twitter_get_profile pewresearch`\n",
    "\n",
    "But Django also provides a `call_command` function that lets you call management commands programatically, so that's what we're going to use here."
   ]
  },
  {
   "cell_type": "code",
   "execution_count": 3,
   "metadata": {},
   "outputs": [],
   "source": [
    "from django.core.management import call_command"
   ]
  },
  {
   "cell_type": "code",
   "execution_count": 4,
   "metadata": {},
   "outputs": [
    {
     "name": "stdout",
     "output_type": "stream",
     "text": [
      "Collecting profile data for pewresearch\n",
      "Successfully saved profile data for pewresearch: http://twitter.com/pewresearch\n",
      "Collecting profile data for pewglobal\n",
      "Successfully saved profile data for pewglobal: http://twitter.com/pewglobal\n",
      "Collecting profile data for pewmethods\n",
      "Successfully saved profile data for pewmethods: http://twitter.com/pewmethods\n",
      "Collecting profile data for pewjournalism\n",
      "Successfully saved profile data for pewjournalism: http://twitter.com/pewjournalism\n",
      "Collecting profile data for facttank\n",
      "Successfully saved profile data for facttank: http://twitter.com/facttank\n",
      "Collecting profile data for pewscience\n",
      "Successfully saved profile data for pewscience: http://twitter.com/pewscience\n",
      "Collecting profile data for pewreligion\n",
      "Successfully saved profile data for pewreligion: http://twitter.com/pewreligion\n",
      "Collecting profile data for pewhispanic\n",
      "Successfully saved profile data for pewhispanic: http://twitter.com/pewhispanic\n",
      "Collecting profile data for pewinternet\n",
      "Successfully saved profile data for pewinternet: http://twitter.com/pewinternet\n",
      "Collecting profile data for pvankessel\n",
      "Successfully saved profile data for pvankessel: http://twitter.com/pvankessel\n",
      "Collecting profile data for justinbieber\n",
      "Successfully saved profile data for justinbieber: http://twitter.com/justinbieber\n"
     ]
    }
   ],
   "source": [
    "for handle in MY_ACCOUNTS:\n",
    "    call_command(\n",
    "        \"django_twitter_get_profile\", handle\n",
    "    )"
   ]
  },
  {
   "cell_type": "code",
   "execution_count": 5,
   "metadata": {},
   "outputs": [
    {
     "data": {
      "text/plain": [
       "11"
      ]
     },
     "execution_count": 5,
     "metadata": {},
     "output_type": "execute_result"
    }
   ],
   "source": [
    "from testapp.models import TwitterProfile\n",
    "TwitterProfile.objects.count()"
   ]
  },
  {
   "cell_type": "code",
   "execution_count": 6,
   "metadata": {},
   "outputs": [
    {
     "data": {
      "text/plain": [
       "<QuerySet [{'id': 1, 'twitter_id': '22642788', 'last_update_time': datetime.datetime(2021, 6, 16, 12, 16, 59, 550270), 'historical': False, 'tweet_backfilled': False, 'screen_name': 'pewresearch', 'created_at': datetime.datetime(2009, 3, 3, 10, 39, 39), 'twitter_error_code': None, 'person_id': None, 'organization_id': None, 'most_recent_snapshot_id': 1}]>"
      ]
     },
     "execution_count": 6,
     "metadata": {},
     "output_type": "execute_result"
    }
   ],
   "source": [
    "TwitterProfile.objects.filter(screen_name='pewresearch').values()"
   ]
  },
  {
   "cell_type": "markdown",
   "metadata": {},
   "source": [
    "Hmm, that looks like we've got less data than we expected. Where'd all the data go? Well, because Twitter profiles change over time - people gain and lose followers, they change their descriptions (and sometimes even their screen names) - and because we might be interested in tracking that data, Django Twitter actually stores profile data in a separate table, every time it queries the API. We call these \"profile snapshots\" and you can access them like so:"
   ]
  },
  {
   "cell_type": "code",
   "execution_count": 7,
   "metadata": {},
   "outputs": [
    {
     "data": {
      "text/plain": [
       "<QuerySet [<TwitterProfileSnapshot: pewresearch: http://twitter.com/pewresearch AS OF 2021-06-16 12:16:59.525119>]>"
      ]
     },
     "execution_count": 7,
     "metadata": {},
     "output_type": "execute_result"
    }
   ],
   "source": [
    "profile = TwitterProfile.objects.get(screen_name='pewresearch')\n",
    "profile.snapshots.all()"
   ]
  },
  {
   "cell_type": "code",
   "execution_count": 8,
   "metadata": {},
   "outputs": [
    {
     "data": {
      "text/plain": [
       "<QuerySet [{'id': 1, 'timestamp': datetime.datetime(2021, 6, 16, 12, 16, 59, 525119), 'screen_name': 'pewresearch', 'name': 'Pew Research Center', 'contributors_enabled': False, 'description': 'Nonpartisan, non-advocacy data and analysis on the issues, attitudes and trends shaping the world. Subscribe: https://t.co/Kpq1V0w9bM ✉️', 'favorites_count': 892, 'followers_count': 430682, 'followings_count': 96, 'is_verified': True, 'is_protected': False, 'listed_count': 13197, 'profile_image_url': 'http://pbs.twimg.com/profile_images/879728447026868228/U4Uzpdp6_normal.jpg', 'status': 'RT @_StephKramer: 1. New analysis: Americans lost roughly 5.5 million years of life to COVID-19 in 2020 alone, more than all accidents comb…', 'statuses_count': 90365, 'urls': ['https://www.pewresearch.org/'], 'location': 'Washington, DC', 'json': {'id': 22642788, 'url': 'https://t.co/OBLpll8VR0', 'lang': None, 'name': 'Pew Research Center', 'id_str': '22642788', 'status': {'id': 1405210666189852674, 'geo': None, 'lang': 'en', 'text': 'RT @_StephKramer: 1. New analysis: Americans lost roughly 5.5 million years of life to COVID-19 in 2020 alone, more than all accidents comb…', 'place': None, 'id_str': '1405210666189852674', 'source': '<a href=\"https://about.twitter.com/products/tweetdeck\" rel=\"nofollow\">TweetDeck</a>', 'entities': {'urls': [], 'symbols': [], 'hashtags': [], 'user_mentions': [{'id': 932577108, 'name': '𝗦𝘁𝗲𝗽𝗵𝗮𝗻𝗶𝗲 𝗞𝗿𝗮𝗺𝗲𝗿', 'id_str': '932577108', 'indices': [3, 16], 'screen_name': '_StephKramer'}]}, 'favorited': False, 'retweeted': False, 'truncated': False, 'created_at': 'Wed Jun 16 17:08:25 +0000 2021', 'coordinates': None, 'contributors': None, 'retweet_count': 4, 'favorite_count': 0, 'is_quote_status': False, 'retweeted_status': {'id': 1405208831538438145, 'geo': None, 'lang': 'en', 'text': '1. New analysis: Americans lost roughly 5.5 million years of life to COVID-19 in 2020 alone, more than all accident… https://t.co/dcyuG9CV77', 'place': None, 'id_str': '1405208831538438145', 'source': '<a href=\"https://mobile.twitter.com\" rel=\"nofollow\">Twitter Web App</a>', 'entities': {'urls': [{'url': 'https://t.co/dcyuG9CV77', 'indices': [117, 140], 'display_url': 'twitter.com/i/web/status/1…', 'expanded_url': 'https://twitter.com/i/web/status/1405208831538438145'}], 'symbols': [], 'hashtags': [], 'user_mentions': []}, 'favorited': False, 'retweeted': False, 'truncated': True, 'created_at': 'Wed Jun 16 17:01:07 +0000 2021', 'coordinates': None, 'contributors': None, 'retweet_count': 4, 'favorite_count': 8, 'is_quote_status': False, 'possibly_sensitive': False, 'in_reply_to_user_id': None, 'in_reply_to_status_id': None, 'in_reply_to_screen_name': None, 'in_reply_to_user_id_str': None, 'in_reply_to_status_id_str': None}, 'in_reply_to_user_id': None, 'in_reply_to_status_id': None, 'in_reply_to_screen_name': None, 'in_reply_to_user_id_str': None, 'in_reply_to_status_id_str': None}, 'entities': {'url': {'urls': [{'url': 'https://t.co/OBLpll8VR0', 'indices': [0, 23], 'display_url': 'pewresearch.org', 'expanded_url': 'https://www.pewresearch.org/'}]}, 'description': {'urls': [{'url': 'https://t.co/Kpq1V0w9bM', 'indices': [110, 133], 'display_url': 'pewresearch.org/follow-us/', 'expanded_url': 'https://www.pewresearch.org/follow-us/'}]}}, 'location': 'Washington, DC', 'verified': True, 'following': False, 'protected': False, 'time_zone': None, 'created_at': 'Tue Mar 03 16:39:39 +0000 2009', 'utc_offset': None, 'description': 'Nonpartisan, non-advocacy data and analysis on the issues, attitudes and trends shaping the world. Subscribe: https://t.co/Kpq1V0w9bM ✉️', 'geo_enabled': True, 'screen_name': 'pewresearch', 'listed_count': 13197, 'friends_count': 96, 'is_translator': False, 'notifications': False, 'statuses_count': 90365, 'default_profile': False, 'followers_count': 430682, 'translator_type': 'none', 'favourites_count': 892, 'profile_location': None, 'profile_image_url': 'http://pbs.twimg.com/profile_images/879728447026868228/U4Uzpdp6_normal.jpg', 'profile_banner_url': 'https://pbs.twimg.com/profile_banners/22642788/1494338667', 'profile_link_color': '0083B3', 'profile_text_color': '525151', 'follow_request_sent': False, 'contributors_enabled': False, 'has_extended_profile': False, 'default_profile_image': False, 'withheld_in_countries': [], 'is_translation_enabled': False, 'profile_background_tile': True, 'profile_image_url_https': 'https://pbs.twimg.com/profile_images/879728447026868228/U4Uzpdp6_normal.jpg', 'profile_background_color': 'EFEFEF', 'profile_sidebar_fill_color': 'DBE7ED', 'profile_background_image_url': 'http://abs.twimg.com/images/themes/theme1/bg.png', 'profile_sidebar_border_color': 'DBE7ED', 'profile_use_background_image': False, 'profile_background_image_url_https': 'https://abs.twimg.com/images/themes/theme1/bg.png'}, 'profile_id': 1}]>"
      ]
     },
     "execution_count": 8,
     "metadata": {},
     "output_type": "execute_result"
    }
   ],
   "source": [
    "profile.snapshots.values()"
   ]
  },
  {
   "cell_type": "markdown",
   "metadata": {},
   "source": [
    "There's the data! For convenience, you can always access the most recent snapshot of a profile directly using the `most_recent_snapshot` field:"
   ]
  },
  {
   "cell_type": "code",
   "execution_count": 9,
   "metadata": {},
   "outputs": [
    {
     "data": {
      "text/plain": [
       "<TwitterProfileSnapshot: pewresearch: http://twitter.com/pewresearch AS OF 2021-06-16 12:16:59.525119>"
      ]
     },
     "execution_count": 9,
     "metadata": {},
     "output_type": "execute_result"
    }
   ],
   "source": [
    "profile.most_recent_snapshot"
   ]
  },
  {
   "cell_type": "markdown",
   "metadata": {},
   "source": [
    "## Collecting tweets\n",
    "\n",
    "Okay, now let's get some tweets using the `django_twitter_get_profile_tweets` command. The Twitter v1 API allows you to go back as far as the ~3200 most recent tweets produced by an account. With query limits, that would take a while, so we're going to set a limit of 25 tweets. But normally, we'd probably want to grab everything we could, and then periodically run this command again to get new tweets on a regular basis. Our Twitter account is pretty active - but it's definitely not producing 3200 tweets every day, so when we run this command a second time, we probably don't need to iterate through everything all over again. Instead, Django Twitter sets a `tweet_backfilled=True` flag on the profile the first time it works its way through the full available feed for a profile. Then, in subsequent runs of `django_twitter_get_profile_tweets`, it'll default to breaking off the data collection when it encounters a tweet it's already seen. \n",
    "\n",
    "(Sidenote: since you're probably collecting tweets for multiple profiles and it's possible that some accounts mention or retweet each other, Django Twitter is smart enough to check for this, and it only breaks off when it encounters a tweet that could only have been captured by collecting the profile's own feed.)\n",
    "\n",
    "You can ignore the backfill flag by simply passing `--ignore_backfill` to the command, and it'll keep iterating. And, if you just want to ignore the backfill flag for a limited timeframe (only refreshing existing tweets up to a certain point) then you can easily pass `--max_backfill_days` or `--max_backfill_date` to the command to tell it how far back you want to go. Finally, Django Twitter avoids overwriting existing tweet data, unless you pass `--overwrite`.  Combining some of these flags - like `--ignore_backfill --max_backfill_days 7 --overwrite` - can be useful if you want to refresh the stats (i.e. likes, retweets) for recent tweets, but don't care after a certain point (stats tend to level-off after a few days, so we often stop refreshing tweets after a week).\n",
    "\n",
    "Anyway, below, we're going to collected the most recent 25 tweets for the @pewresearch account:"
   ]
  },
  {
   "cell_type": "code",
   "execution_count": 10,
   "metadata": {},
   "outputs": [
    {
     "name": "stderr",
     "output_type": "stream",
     "text": [
      "\r",
      "Retrieving tweets for user pewresearch: 0it [00:00, ?it/s]"
     ]
    },
    {
     "name": "stdout",
     "output_type": "stream",
     "text": [
      "Retrieving tweets for user pewresearch\n"
     ]
    },
    {
     "name": "stderr",
     "output_type": "stream",
     "text": [
      "Retrieving tweets for user pewresearch: 24it [00:03,  6.14it/s]"
     ]
    },
    {
     "name": "stdout",
     "output_type": "stream",
     "text": [
      "pewresearch: http://twitter.com/pewresearch: 25 tweets scanned, 25 updated\n"
     ]
    },
    {
     "name": "stderr",
     "output_type": "stream",
     "text": [
      "\n"
     ]
    }
   ],
   "source": [
    "call_command(\n",
    "    \"django_twitter_get_profile_tweets\",\n",
    "    \"pewresearch\",\n",
    "    limit=25\n",
    ")"
   ]
  },
  {
   "cell_type": "code",
   "execution_count": 11,
   "metadata": {},
   "outputs": [
    {
     "data": {
      "text/plain": [
       "37"
      ]
     },
     "execution_count": 11,
     "metadata": {},
     "output_type": "execute_result"
    }
   ],
   "source": [
    "from testapp.models import Tweet\n",
    "Tweet.objects.count()"
   ]
  },
  {
   "cell_type": "code",
   "execution_count": 12,
   "metadata": {},
   "outputs": [
    {
     "data": {
      "text/plain": [
       "19"
      ]
     },
     "execution_count": 12,
     "metadata": {},
     "output_type": "execute_result"
    }
   ],
   "source": [
    "TwitterProfile.objects.count()"
   ]
  },
  {
   "cell_type": "markdown",
   "metadata": {},
   "source": [
    "Awesome, we've got tweets now!  But wait, we have more tweets than we expected, and we also have more Twitter profiles. What gives?\n",
    "\n",
    "Well, Django Twitter automatically creates new records for any and all tweets and accounts it encounters. So, if @pewresearch quote tweets an account we hadn't seen before, both the quote tweet and the original tweet get created in the database, along with the account that created the quoted tweet. This is nice, because our lovely database grows and tracks all of the data it can - but now we've got extra profiles. Which ones are our original ones?\n",
    "\n",
    "We could just keep using our initial list of screen names to keep track of our \"primary\" accounts, but that poses another problem: screen names can change and get recycled by new accounts. If we were to retire our @pewresearch account and it were to get snatched up by a spam bot (not an uncommon scenario for popular handles), our queries would start pulling in spammy tweets, and we wouldn't even know something was wrong unless we took a close look. The better way of tracking accounts is to use their actually-unique Twitter IDs, which you get back from the API the first time you query a screen name."
   ]
  },
  {
   "cell_type": "code",
   "execution_count": 13,
   "metadata": {},
   "outputs": [
    {
     "data": {
      "text/plain": [
       "'22642788'"
      ]
     },
     "execution_count": 13,
     "metadata": {},
     "output_type": "execute_result"
    }
   ],
   "source": [
    "profile.twitter_id"
   ]
  },
  {
   "cell_type": "markdown",
   "metadata": {},
   "source": [
    "So now we have to go and look up all of our accounts' _actual_ IDs and replace our list of screen names? That's a huge pain! Wouldn't it be nice if we could just define lists of accounts that we care about directly in the database?\n",
    "\n",
    "## Profile and tweet sets\n",
    "\n",
    "That's where profile and tweet sets come in. Every Django Twitter command (where it makes sense) accepts `--add_to_profile_set` and/or `--add_to_tweet_set` commands that take arbitrary labels that get associated with the profiles and/or tweets that it encounters. This makes it really easy to give a set of profiles or tweets a name, and then you can access that set directly in the database - and better yet, you can also run commands directly on a _set_ of profiles all at once. Let's see how that works.\n",
    "\n",
    "Let's repeat the process of looping over and loading in our accounts, but this time we're going to add them to a profile set."
   ]
  },
  {
   "cell_type": "code",
   "execution_count": 14,
   "metadata": {},
   "outputs": [
    {
     "name": "stdout",
     "output_type": "stream",
     "text": [
      "Collecting profile data for pewresearch\n",
      "Successfully saved profile data for pewresearch: http://twitter.com/pewresearch\n",
      "Collecting profile data for pewglobal\n",
      "Successfully saved profile data for pewglobal: http://twitter.com/pewglobal\n",
      "Collecting profile data for pewmethods\n",
      "Successfully saved profile data for pewmethods: http://twitter.com/pewmethods\n",
      "Collecting profile data for pewjournalism\n",
      "Successfully saved profile data for pewjournalism: http://twitter.com/pewjournalism\n",
      "Collecting profile data for facttank\n",
      "Successfully saved profile data for facttank: http://twitter.com/facttank\n",
      "Collecting profile data for pewscience\n",
      "Successfully saved profile data for pewscience: http://twitter.com/pewscience\n",
      "Collecting profile data for pewreligion\n",
      "Successfully saved profile data for pewreligion: http://twitter.com/pewreligion\n",
      "Collecting profile data for pewhispanic\n",
      "Successfully saved profile data for pewhispanic: http://twitter.com/pewhispanic\n",
      "Collecting profile data for pewinternet\n",
      "Successfully saved profile data for pewinternet: http://twitter.com/pewinternet\n",
      "Collecting profile data for pvankessel\n",
      "Successfully saved profile data for pvankessel: http://twitter.com/pvankessel\n",
      "Collecting profile data for justinbieber\n",
      "Successfully saved profile data for justinbieber: http://twitter.com/justinbieber\n"
     ]
    }
   ],
   "source": [
    "for handle in MY_ACCOUNTS:\n",
    "    call_command(\n",
    "        \"django_twitter_get_profile\", handle, add_to_profile_set=\"my_profile_set\"\n",
    "    )"
   ]
  },
  {
   "cell_type": "markdown",
   "metadata": {},
   "source": [
    "Now we can access these accounts through the profile set that we just created:"
   ]
  },
  {
   "cell_type": "code",
   "execution_count": 15,
   "metadata": {},
   "outputs": [
    {
     "data": {
      "text/plain": [
       "11"
      ]
     },
     "execution_count": 15,
     "metadata": {},
     "output_type": "execute_result"
    }
   ],
   "source": [
    "from testapp.models import TwitterProfileSet\n",
    "\n",
    "TwitterProfileSet.objects.get(name=\"my_profile_set\").profiles.count()"
   ]
  },
  {
   "cell_type": "markdown",
   "metadata": {},
   "source": [
    "Now, the next time we want to refresh the profile data for these accounts, we can do it all at once by using the `django_twitter_get_profile_set` command, no for-loop necessary - and no need to specify those problematic screen names; Django Twitter will use the correct unique IDs automatically:"
   ]
  },
  {
   "cell_type": "code",
   "execution_count": 16,
   "metadata": {
    "scrolled": true
   },
   "outputs": [
    {
     "name": "stderr",
     "output_type": "stream",
     "text": [
      "100%|██████████| 11/11 [00:00<00:00, 933.22it/s]"
     ]
    },
    {
     "name": "stdout",
     "output_type": "stream",
     "text": [
      "Collecting profile data for 3015897974Collecting profile data for 111339670\n",
      "\n"
     ]
    },
    {
     "name": "stderr",
     "output_type": "stream",
     "text": [
      "\n"
     ]
    },
    {
     "name": "stdout",
     "output_type": "stream",
     "text": [
      "Successfully saved profile data for pewmethods: http://twitter.com/pewmethodsSuccessfully saved profile data for pewjournalism: http://twitter.com/pewjournalism\n",
      "\n",
      "Collecting profile data for 1262729180Collecting profile data for 1265726480\n",
      "\n",
      "Successfully saved profile data for pewscience: http://twitter.com/pewscience\n",
      "Collecting profile data for 22642788\n",
      "Successfully saved profile data for facttank: http://twitter.com/facttank\n",
      "Collecting profile data for 831470472\n",
      "Successfully saved profile data for pewglobal: http://twitter.com/pewglobal\n",
      "Collecting profile data for 36462231\n",
      "Successfully saved profile data for pewresearch: http://twitter.com/pewresearch\n",
      "Collecting profile data for 426041590\n",
      "Successfully saved profile data for pewreligion: http://twitter.com/pewreligion\n",
      "Collecting profile data for 17071048\n",
      "Successfully saved profile data for pewhispanic: http://twitter.com/pewhispanic\n",
      "Collecting profile data for 530977797\n",
      "Successfully saved profile data for pewinternet: http://twitter.com/pewinternet\n",
      "Collecting profile data for 27260086\n",
      "Successfully saved profile data for pvankessel: http://twitter.com/pvankessel\n",
      "Successfully saved profile data for justinbieber: http://twitter.com/justinbieber\n"
     ]
    }
   ],
   "source": [
    "call_command(\n",
    "    \"django_twitter_get_profile_set\", \"my_profile_set\", num_cores=2\n",
    ")"
   ]
  },
  {
   "cell_type": "code",
   "execution_count": 17,
   "metadata": {},
   "outputs": [
    {
     "name": "stdout",
     "output_type": "stream",
     "text": [
      "WOOT\n"
     ]
    }
   ],
   "source": [
    "print(\"WOOT\")"
   ]
  },
  {
   "cell_type": "markdown",
   "metadata": {},
   "source": [
    "And to download the latest tweets for _all_ of these accounts, we can now run the `django_twitter_get_profile_set_tweets` command"
   ]
  },
  {
   "cell_type": "code",
   "execution_count": 18,
   "metadata": {
    "scrolled": true
   },
   "outputs": [
    {
     "name": "stderr",
     "output_type": "stream",
     "text": [
      "100%|██████████| 11/11 [00:00<00:00, 10762.15it/s]\n",
      "Retrieving tweets for user pewmethods: 0it [00:00, ?it/s]"
     ]
    },
    {
     "name": "stdout",
     "output_type": "stream",
     "text": [
      "Retrieving tweets for user pewmethods"
     ]
    },
    {
     "name": "stderr",
     "output_type": "stream",
     "text": [
      "\r",
      "Retrieving tweets for user pewjournalism: 0it [00:00, ?it/s]"
     ]
    },
    {
     "name": "stdout",
     "output_type": "stream",
     "text": [
      "Retrieving tweets for user pewjournalism\n",
      "\n"
     ]
    },
    {
     "name": "stderr",
     "output_type": "stream",
     "text": [
      "Retrieving tweets for user pewjournalism: 24it [00:02,  9.74it/s]\n"
     ]
    },
    {
     "name": "stdout",
     "output_type": "stream",
     "text": [
      "pewjournalism: http://twitter.com/pewjournalism: 25 tweets scanned, 25 updated\n"
     ]
    },
    {
     "name": "stderr",
     "output_type": "stream",
     "text": [
      "Retrieving tweets for user pewscience: 0it [00:00, ?it/s]it/s]"
     ]
    },
    {
     "name": "stdout",
     "output_type": "stream",
     "text": [
      "Retrieving tweets for user pewscience\n"
     ]
    },
    {
     "name": "stderr",
     "output_type": "stream",
     "text": [
      "Retrieving tweets for user pewmethods: 24it [00:03,  7.48it/s]\n"
     ]
    },
    {
     "name": "stdout",
     "output_type": "stream",
     "text": [
      "pewmethods: http://twitter.com/pewmethods: 25 tweets scanned, 25 updated\n"
     ]
    },
    {
     "name": "stderr",
     "output_type": "stream",
     "text": [
      "Retrieving tweets for user facttank: 0it [00:00, ?it/s]0it/s]"
     ]
    },
    {
     "name": "stdout",
     "output_type": "stream",
     "text": [
      "Retrieving tweets for user facttank\n"
     ]
    },
    {
     "name": "stderr",
     "output_type": "stream",
     "text": [
      "Retrieving tweets for user facttank: 24it [00:02,  9.67it/s]s]\n"
     ]
    },
    {
     "name": "stdout",
     "output_type": "stream",
     "text": [
      "facttank: http://twitter.com/facttank: 25 tweets scanned, 25 updated\n"
     ]
    },
    {
     "name": "stderr",
     "output_type": "stream",
     "text": [
      "Retrieving tweets for user pewscience: 24it [00:03,  7.03it/s]\n"
     ]
    },
    {
     "name": "stdout",
     "output_type": "stream",
     "text": [
      "pewscience: http://twitter.com/pewscience: 25 tweets scanned, 25 updated\n"
     ]
    },
    {
     "name": "stderr",
     "output_type": "stream",
     "text": [
      "\r",
      "Retrieving tweets for user pewglobal: 0it [00:00, ?it/s]"
     ]
    },
    {
     "name": "stdout",
     "output_type": "stream",
     "text": [
      "Retrieving tweets for user pewglobal\n"
     ]
    },
    {
     "name": "stderr",
     "output_type": "stream",
     "text": [
      "\r",
      "Retrieving tweets for user pewresearch: 0it [00:00, ?it/s]"
     ]
    },
    {
     "name": "stdout",
     "output_type": "stream",
     "text": [
      "Retrieving tweets for user pewresearch\n"
     ]
    },
    {
     "name": "stderr",
     "output_type": "stream",
     "text": [
      "Retrieving tweets for user pewglobal: 24it [00:02, 11.33it/s]s]\n"
     ]
    },
    {
     "name": "stdout",
     "output_type": "stream",
     "text": [
      "pewglobal: http://twitter.com/pewglobal: 25 tweets scanned, 25 updated\n"
     ]
    },
    {
     "name": "stderr",
     "output_type": "stream",
     "text": [
      "Retrieving tweets for user pewreligion: 0it [00:00, ?it/s]it/s]"
     ]
    },
    {
     "name": "stdout",
     "output_type": "stream",
     "text": [
      "Retrieving tweets for user pewreligion\n"
     ]
    },
    {
     "name": "stderr",
     "output_type": "stream",
     "text": [
      "Retrieving tweets for user pewresearch: 24it [00:03,  7.84it/s]\n"
     ]
    },
    {
     "name": "stdout",
     "output_type": "stream",
     "text": [
      "pewresearch: http://twitter.com/pewresearch: 25 tweets scanned, 25 updated\n"
     ]
    },
    {
     "name": "stderr",
     "output_type": "stream",
     "text": [
      "\r",
      "Retrieving tweets for user pewhispanic: 0it [00:00, ?it/s]"
     ]
    },
    {
     "name": "stdout",
     "output_type": "stream",
     "text": [
      "Retrieving tweets for user pewhispanic\n"
     ]
    },
    {
     "name": "stderr",
     "output_type": "stream",
     "text": [
      "Retrieving tweets for user pewreligion: 24it [00:01, 12.85it/s]\n"
     ]
    },
    {
     "name": "stdout",
     "output_type": "stream",
     "text": [
      "pewreligion: http://twitter.com/pewreligion: 25 tweets scanned, 25 updated\n"
     ]
    },
    {
     "name": "stderr",
     "output_type": "stream",
     "text": [
      "Retrieving tweets for user pewinternet: 0it [00:00, ?it/s]it/s]"
     ]
    },
    {
     "name": "stdout",
     "output_type": "stream",
     "text": [
      "Retrieving tweets for user pewinternet\n"
     ]
    },
    {
     "name": "stderr",
     "output_type": "stream",
     "text": [
      "Retrieving tweets for user pewhispanic: 24it [00:02,  8.08it/s]\n"
     ]
    },
    {
     "name": "stdout",
     "output_type": "stream",
     "text": [
      "pewhispanic: http://twitter.com/pewhispanic: 25 tweets scanned, 25 updated\n"
     ]
    },
    {
     "name": "stderr",
     "output_type": "stream",
     "text": [
      "Retrieving tweets for user pvankessel: 0it [00:00, ?it/s]6it/s]"
     ]
    },
    {
     "name": "stdout",
     "output_type": "stream",
     "text": [
      "Retrieving tweets for user pvankessel\n"
     ]
    },
    {
     "name": "stderr",
     "output_type": "stream",
     "text": [
      "Retrieving tweets for user pewinternet: 24it [00:03,  7.79it/s]\n"
     ]
    },
    {
     "name": "stdout",
     "output_type": "stream",
     "text": [
      "pewinternet: http://twitter.com/pewinternet: 25 tweets scanned, 25 updated\n"
     ]
    },
    {
     "name": "stderr",
     "output_type": "stream",
     "text": [
      "Retrieving tweets for user justinbieber: 0it [00:00, ?it/s]s]"
     ]
    },
    {
     "name": "stdout",
     "output_type": "stream",
     "text": [
      "Retrieving tweets for user justinbieber\n"
     ]
    },
    {
     "name": "stderr",
     "output_type": "stream",
     "text": [
      "Retrieving tweets for user pvankessel: 24it [00:03,  7.99it/s]]\n"
     ]
    },
    {
     "name": "stdout",
     "output_type": "stream",
     "text": [
      "pvankessel: http://twitter.com/pvankessel: 25 tweets scanned, 25 updated\n"
     ]
    },
    {
     "name": "stderr",
     "output_type": "stream",
     "text": [
      "Retrieving tweets for user justinbieber: 24it [00:03,  7.64it/s]\n"
     ]
    },
    {
     "name": "stdout",
     "output_type": "stream",
     "text": [
      "justinbieber: http://twitter.com/justinbieber: 25 tweets scanned, 25 updated\n"
     ]
    }
   ],
   "source": [
    "call_command(\n",
    "    \"django_twitter_get_profile_set_tweets\",\n",
    "    \"my_profile_set\",\n",
    "    limit=25,\n",
    "    overwrite=True,\n",
    "    ignore_backfill=True\n",
    ")"
   ]
  },
  {
   "cell_type": "markdown",
   "metadata": {},
   "source": [
    "We can also keep track of all the tweets we collect when we run this command, by passing it a label for a tweet set:"
   ]
  },
  {
   "cell_type": "code",
   "execution_count": 19,
   "metadata": {
    "scrolled": true
   },
   "outputs": [
    {
     "name": "stderr",
     "output_type": "stream",
     "text": [
      "100%|██████████| 11/11 [00:00<00:00, 6263.55it/s]\n",
      "Retrieving tweets for user pewmethods: 0it [00:00, ?it/s]"
     ]
    },
    {
     "name": "stdout",
     "output_type": "stream",
     "text": [
      "Retrieving tweets for user pewmethods"
     ]
    },
    {
     "name": "stderr",
     "output_type": "stream",
     "text": [
      "\r",
      "Retrieving tweets for user pewscience: 0it [00:00, ?it/s]"
     ]
    },
    {
     "name": "stdout",
     "output_type": "stream",
     "text": [
      "\n",
      "Retrieving tweets for user pewscience\n"
     ]
    },
    {
     "name": "stderr",
     "output_type": "stream",
     "text": [
      "Retrieving tweets for user pewmethods: 24it [00:02,  9.88it/s]\n"
     ]
    },
    {
     "name": "stdout",
     "output_type": "stream",
     "text": [
      "pewmethods: http://twitter.com/pewmethods: 25 tweets scanned, 25 updated\n"
     ]
    },
    {
     "name": "stderr",
     "output_type": "stream",
     "text": [
      "Retrieving tweets for user pewscience: 24it [00:02,  9.61it/s]\n"
     ]
    },
    {
     "name": "stdout",
     "output_type": "stream",
     "text": [
      "pewscience: http://twitter.com/pewscience: 25 tweets scanned, 25 updated\n"
     ]
    },
    {
     "name": "stderr",
     "output_type": "stream",
     "text": [
      "\r",
      "Retrieving tweets for user pewjournalism: 0it [00:00, ?it/s]"
     ]
    },
    {
     "name": "stdout",
     "output_type": "stream",
     "text": [
      "Retrieving tweets for user pewjournalism\n"
     ]
    },
    {
     "name": "stderr",
     "output_type": "stream",
     "text": [
      "\r",
      "Retrieving tweets for user pewglobal: 0it [00:00, ?it/s]"
     ]
    },
    {
     "name": "stdout",
     "output_type": "stream",
     "text": [
      "Retrieving tweets for user pewglobal\n"
     ]
    },
    {
     "name": "stderr",
     "output_type": "stream",
     "text": [
      "Retrieving tweets for user pewjournalism: 24it [00:01, 12.63it/s]\n",
      "Retrieving tweets for user pewglobal: 19it [00:01, 16.42it/s]"
     ]
    },
    {
     "name": "stdout",
     "output_type": "stream",
     "text": [
      "pewjournalism: http://twitter.com/pewjournalism: 25 tweets scanned, 25 updated\n"
     ]
    },
    {
     "name": "stderr",
     "output_type": "stream",
     "text": [
      "Retrieving tweets for user pewreligion: 0it [00:00, ?it/s]/s]"
     ]
    },
    {
     "name": "stdout",
     "output_type": "stream",
     "text": [
      "Retrieving tweets for user pewreligion\n"
     ]
    },
    {
     "name": "stderr",
     "output_type": "stream",
     "text": [
      "Retrieving tweets for user pewglobal: 24it [00:02, 10.90it/s]\n"
     ]
    },
    {
     "name": "stdout",
     "output_type": "stream",
     "text": [
      "pewglobal: http://twitter.com/pewglobal: 25 tweets scanned, 25 updated\n"
     ]
    },
    {
     "name": "stderr",
     "output_type": "stream",
     "text": [
      "\r",
      "Retrieving tweets for user facttank: 0it [00:00, ?it/s]"
     ]
    },
    {
     "name": "stdout",
     "output_type": "stream",
     "text": [
      "Retrieving tweets for user facttank\n"
     ]
    },
    {
     "name": "stderr",
     "output_type": "stream",
     "text": [
      "Retrieving tweets for user pewreligion: 24it [00:01, 13.02it/s]\n"
     ]
    },
    {
     "name": "stdout",
     "output_type": "stream",
     "text": [
      "pewreligion: http://twitter.com/pewreligion: 25 tweets scanned, 25 updated\n"
     ]
    },
    {
     "name": "stderr",
     "output_type": "stream",
     "text": [
      "Retrieving tweets for user pewhispanic: 0it [00:00, ?it/s]s]"
     ]
    },
    {
     "name": "stdout",
     "output_type": "stream",
     "text": [
      "Retrieving tweets for user pewhispanic\n"
     ]
    },
    {
     "name": "stderr",
     "output_type": "stream",
     "text": [
      "Retrieving tweets for user facttank: 24it [00:01, 12.98it/s]\n"
     ]
    },
    {
     "name": "stdout",
     "output_type": "stream",
     "text": [
      "facttank: http://twitter.com/facttank: 25 tweets scanned, 25 updated\n"
     ]
    },
    {
     "name": "stderr",
     "output_type": "stream",
     "text": [
      "\r",
      "Retrieving tweets for user pewresearch: 0it [00:00, ?it/s]"
     ]
    },
    {
     "name": "stdout",
     "output_type": "stream",
     "text": [
      "Retrieving tweets for user pewresearch\n"
     ]
    },
    {
     "name": "stderr",
     "output_type": "stream",
     "text": [
      "Retrieving tweets for user pewresearch: 24it [00:02, 10.40it/s]\n"
     ]
    },
    {
     "name": "stdout",
     "output_type": "stream",
     "text": [
      "pewresearch: http://twitter.com/pewresearch: 25 tweets scanned, 25 updated\n"
     ]
    },
    {
     "name": "stderr",
     "output_type": "stream",
     "text": [
      "Retrieving tweets for user pewhispanic: 24it [00:02,  8.82it/s]\n"
     ]
    },
    {
     "name": "stdout",
     "output_type": "stream",
     "text": [
      "pewhispanic: http://twitter.com/pewhispanic: 25 tweets scanned, 25 updated\n"
     ]
    },
    {
     "name": "stderr",
     "output_type": "stream",
     "text": [
      "\r",
      "Retrieving tweets for user pewinternet: 0it [00:00, ?it/s]"
     ]
    },
    {
     "name": "stdout",
     "output_type": "stream",
     "text": [
      "Retrieving tweets for user pewinternet\n"
     ]
    },
    {
     "name": "stderr",
     "output_type": "stream",
     "text": [
      "\r",
      "Retrieving tweets for user pvankessel: 0it [00:00, ?it/s]"
     ]
    },
    {
     "name": "stdout",
     "output_type": "stream",
     "text": [
      "Retrieving tweets for user pvankessel\n"
     ]
    },
    {
     "name": "stderr",
     "output_type": "stream",
     "text": [
      "Retrieving tweets for user pewinternet: 24it [00:01, 13.20it/s]\n"
     ]
    },
    {
     "name": "stdout",
     "output_type": "stream",
     "text": [
      "pewinternet: http://twitter.com/pewinternet: 25 tweets scanned, 25 updated\n"
     ]
    },
    {
     "name": "stderr",
     "output_type": "stream",
     "text": [
      "Retrieving tweets for user pvankessel: 24it [00:02, 11.98it/s]\n"
     ]
    },
    {
     "name": "stdout",
     "output_type": "stream",
     "text": [
      "pvankessel: http://twitter.com/pvankessel: 25 tweets scanned, 25 updated\n"
     ]
    },
    {
     "name": "stderr",
     "output_type": "stream",
     "text": [
      "\r",
      "Retrieving tweets for user justinbieber: 0it [00:00, ?it/s]"
     ]
    },
    {
     "name": "stdout",
     "output_type": "stream",
     "text": [
      "Retrieving tweets for user justinbieber\n"
     ]
    },
    {
     "name": "stderr",
     "output_type": "stream",
     "text": [
      "Retrieving tweets for user justinbieber: 24it [00:02, 11.07it/s]\n"
     ]
    },
    {
     "name": "stdout",
     "output_type": "stream",
     "text": [
      "justinbieber: http://twitter.com/justinbieber: 25 tweets scanned, 25 updated\n"
     ]
    }
   ],
   "source": [
    "call_command(\n",
    "    \"django_twitter_get_profile_set_tweets\",\n",
    "    \"my_profile_set\",\n",
    "    limit=25,\n",
    "    overwrite=True,\n",
    "    ignore_backfill=True,\n",
    "    add_to_tweet_set=\"my_tweet_set\"\n",
    ")"
   ]
  },
  {
   "cell_type": "code",
   "execution_count": 20,
   "metadata": {},
   "outputs": [
    {
     "data": {
      "text/plain": [
       "275"
      ]
     },
     "execution_count": 20,
     "metadata": {},
     "output_type": "execute_result"
    }
   ],
   "source": [
    "from testapp.models import TweetSet\n",
    "TweetSet.objects.get(name=\"my_tweet_set\").tweets.count()"
   ]
  },
  {
   "cell_type": "markdown",
   "metadata": {},
   "source": [
    "And we could even add those profiles to an entirely new profile set, to keep track of data collection, for example."
   ]
  },
  {
   "cell_type": "code",
   "execution_count": 21,
   "metadata": {},
   "outputs": [
    {
     "name": "stderr",
     "output_type": "stream",
     "text": [
      "100%|██████████| 11/11 [00:00<00:00, 13921.95it/s]\n",
      "Retrieving tweets for user pewmethods: 0it [00:00, ?it/s]"
     ]
    },
    {
     "name": "stdout",
     "output_type": "stream",
     "text": [
      "Retrieving tweets for user pewmethods"
     ]
    },
    {
     "name": "stderr",
     "output_type": "stream",
     "text": [
      "\r",
      "Retrieving tweets for user pewscience: 0it [00:00, ?it/s]"
     ]
    },
    {
     "name": "stdout",
     "output_type": "stream",
     "text": [
      "\n",
      "Retrieving tweets for user pewscience\n"
     ]
    },
    {
     "name": "stderr",
     "output_type": "stream",
     "text": [
      "Retrieving tweets for user pewmethods: 24it [00:02, 10.14it/s]\n",
      "Retrieving tweets for user pewscience: 23it [00:02, 14.50it/s]"
     ]
    },
    {
     "name": "stdout",
     "output_type": "stream",
     "text": [
      "pewmethods: http://twitter.com/pewmethods: 25 tweets scanned, 25 updated\n"
     ]
    },
    {
     "name": "stderr",
     "output_type": "stream",
     "text": [
      "Retrieving tweets for user pewscience: 24it [00:02,  9.60it/s]\n"
     ]
    },
    {
     "name": "stdout",
     "output_type": "stream",
     "text": [
      "pewscience: http://twitter.com/pewscience: 25 tweets scanned, 25 updated\n"
     ]
    },
    {
     "name": "stderr",
     "output_type": "stream",
     "text": [
      "\r",
      "Retrieving tweets for user pewreligion: 0it [00:00, ?it/s]"
     ]
    },
    {
     "name": "stdout",
     "output_type": "stream",
     "text": [
      "Retrieving tweets for user pewreligion\n"
     ]
    },
    {
     "name": "stderr",
     "output_type": "stream",
     "text": [
      "\r",
      "Retrieving tweets for user pewjournalism: 0it [00:00, ?it/s]"
     ]
    },
    {
     "name": "stdout",
     "output_type": "stream",
     "text": [
      "Retrieving tweets for user pewjournalism\n"
     ]
    },
    {
     "name": "stderr",
     "output_type": "stream",
     "text": [
      "Retrieving tweets for user pewreligion: 24it [00:02, 11.47it/s]s]\n"
     ]
    },
    {
     "name": "stdout",
     "output_type": "stream",
     "text": [
      "pewreligion: http://twitter.com/pewreligion: 25 tweets scanned, 25 updated\n"
     ]
    },
    {
     "name": "stderr",
     "output_type": "stream",
     "text": [
      "Retrieving tweets for user pewjournalism: 24it [00:02, 11.33it/s]\n"
     ]
    },
    {
     "name": "stdout",
     "output_type": "stream",
     "text": [
      "pewjournalism: http://twitter.com/pewjournalism: 25 tweets scanned, 25 updated\n"
     ]
    },
    {
     "name": "stderr",
     "output_type": "stream",
     "text": [
      "\r",
      "Retrieving tweets for user pewglobal: 0it [00:00, ?it/s]"
     ]
    },
    {
     "name": "stdout",
     "output_type": "stream",
     "text": [
      "Retrieving tweets for user pewglobal\n"
     ]
    },
    {
     "name": "stderr",
     "output_type": "stream",
     "text": [
      "\r",
      "Retrieving tweets for user facttank: 0it [00:00, ?it/s]"
     ]
    },
    {
     "name": "stdout",
     "output_type": "stream",
     "text": [
      "Retrieving tweets for user facttank\n"
     ]
    },
    {
     "name": "stderr",
     "output_type": "stream",
     "text": [
      "Retrieving tweets for user facttank: 24it [00:01, 13.36it/s]]\n"
     ]
    },
    {
     "name": "stdout",
     "output_type": "stream",
     "text": [
      "facttank: http://twitter.com/facttank: 25 tweets scanned, 25 updated\n"
     ]
    },
    {
     "name": "stderr",
     "output_type": "stream",
     "text": [
      "Retrieving tweets for user pewglobal: 24it [00:02, 11.85it/s]\n"
     ]
    },
    {
     "name": "stdout",
     "output_type": "stream",
     "text": [
      "pewglobal: http://twitter.com/pewglobal: 25 tweets scanned, 25 updated\n"
     ]
    },
    {
     "name": "stderr",
     "output_type": "stream",
     "text": [
      "\r",
      "Retrieving tweets for user pewhispanic: 0it [00:00, ?it/s]"
     ]
    },
    {
     "name": "stdout",
     "output_type": "stream",
     "text": [
      "Retrieving tweets for user pewhispanic\n"
     ]
    },
    {
     "name": "stderr",
     "output_type": "stream",
     "text": [
      "\r",
      "Retrieving tweets for user pewresearch: 0it [00:00, ?it/s]"
     ]
    },
    {
     "name": "stdout",
     "output_type": "stream",
     "text": [
      "Retrieving tweets for user pewresearch\n"
     ]
    },
    {
     "name": "stderr",
     "output_type": "stream",
     "text": [
      "Retrieving tweets for user pewresearch: 24it [00:03,  7.05it/s]\n",
      "Retrieving tweets for user pewhispanic: 21it [00:03,  5.43it/s]"
     ]
    },
    {
     "name": "stdout",
     "output_type": "stream",
     "text": [
      "pewresearch: http://twitter.com/pewresearch: 25 tweets scanned, 25 updated\n"
     ]
    },
    {
     "name": "stderr",
     "output_type": "stream",
     "text": [
      "Retrieving tweets for user pewinternet: 0it [00:00, ?it/s]it/s]"
     ]
    },
    {
     "name": "stdout",
     "output_type": "stream",
     "text": [
      "Retrieving tweets for user pewinternet\n"
     ]
    },
    {
     "name": "stderr",
     "output_type": "stream",
     "text": [
      "Retrieving tweets for user pewhispanic: 24it [00:04,  5.44it/s]\n"
     ]
    },
    {
     "name": "stdout",
     "output_type": "stream",
     "text": [
      "pewhispanic: http://twitter.com/pewhispanic: 25 tweets scanned, 25 updated\n"
     ]
    },
    {
     "name": "stderr",
     "output_type": "stream",
     "text": [
      "\r",
      "Retrieving tweets for user pvankessel: 0it [00:00, ?it/s]"
     ]
    },
    {
     "name": "stdout",
     "output_type": "stream",
     "text": [
      "Retrieving tweets for user pvankessel\n"
     ]
    },
    {
     "name": "stderr",
     "output_type": "stream",
     "text": [
      "Retrieving tweets for user pewinternet: 24it [00:03,  6.56it/s]\n"
     ]
    },
    {
     "name": "stdout",
     "output_type": "stream",
     "text": [
      "pewinternet: http://twitter.com/pewinternet: 25 tweets scanned, 25 updated\n"
     ]
    },
    {
     "name": "stderr",
     "output_type": "stream",
     "text": [
      "Retrieving tweets for user justinbieber: 0it [00:00, ?it/s]/s]"
     ]
    },
    {
     "name": "stdout",
     "output_type": "stream",
     "text": [
      "Retrieving tweets for user justinbieber\n"
     ]
    },
    {
     "name": "stderr",
     "output_type": "stream",
     "text": [
      "Retrieving tweets for user pvankessel: 24it [00:03,  6.99it/s]\n"
     ]
    },
    {
     "name": "stdout",
     "output_type": "stream",
     "text": [
      "pvankessel: http://twitter.com/pvankessel: 25 tweets scanned, 25 updated\n"
     ]
    },
    {
     "name": "stderr",
     "output_type": "stream",
     "text": [
      "Retrieving tweets for user justinbieber: 24it [00:02, 11.25it/s]\n"
     ]
    },
    {
     "name": "stdout",
     "output_type": "stream",
     "text": [
      "justinbieber: http://twitter.com/justinbieber: 25 tweets scanned, 25 updated\n"
     ]
    }
   ],
   "source": [
    "call_command(\n",
    "    \"django_twitter_get_profile_set_tweets\",\n",
    "    \"my_profile_set\",\n",
    "    limit=25,\n",
    "    overwrite=True,\n",
    "    ignore_backfill=True,\n",
    "    add_to_tweet_set=\"my_tweet_set\",\n",
    "    add_to_profile_set=\"my_second_profile_set\",\n",
    ")"
   ]
  },
  {
   "cell_type": "code",
   "execution_count": 22,
   "metadata": {},
   "outputs": [
    {
     "data": {
      "text/plain": [
       "11"
      ]
     },
     "execution_count": 22,
     "metadata": {},
     "output_type": "execute_result"
    }
   ],
   "source": [
    "TwitterProfileSet.objects.get(name=\"my_second_profile_set\").profiles.count()"
   ]
  },
  {
   "cell_type": "markdown",
   "metadata": {},
   "source": [
    "## Followers and followings lists"
   ]
  },
  {
   "cell_type": "markdown",
   "metadata": {},
   "source": [
    "So that's how to collect profile and tweet data, but you also might be interested in tracking the followers or friends (we call them \"followings\") for particular accounts. For really popular accounts, not only can it take a super long time to collect all of their followers from the API, their followers can also change substantially over time. To that end, Django Twitter stores lists of followers/followings in a dedicated table, tracking the start and finish time of the data collection, and storing each list separately every time you collect it. Let's see how that works."
   ]
  },
  {
   "cell_type": "code",
   "execution_count": 23,
   "metadata": {},
   "outputs": [
    {
     "name": "stderr",
     "output_type": "stream",
     "text": [
      "Retrieving followers for user pewresearch: 25it [00:00, 37.05it/s]\n"
     ]
    }
   ],
   "source": [
    "call_command(\"django_twitter_get_profile_followers\", \"pewresearch\", limit=25)"
   ]
  },
  {
   "cell_type": "markdown",
   "metadata": {},
   "source": [
    "We now have a TwitterFollowerList object attached to our profile, and if we take a look at its values in the table, we can see that it logged its start and finish time (although we forced a limit of 25, so that's a little misleading!)"
   ]
  },
  {
   "cell_type": "code",
   "execution_count": 24,
   "metadata": {},
   "outputs": [
    {
     "data": {
      "text/plain": [
       "<QuerySet [<TwitterFollowerList: TwitterFollowerList object (1)>]>"
      ]
     },
     "execution_count": 24,
     "metadata": {},
     "output_type": "execute_result"
    }
   ],
   "source": [
    "pew = TwitterProfile.objects.get(screen_name=\"pewresearch\")\n",
    "pew.follower_lists.all()"
   ]
  },
  {
   "cell_type": "code",
   "execution_count": 25,
   "metadata": {},
   "outputs": [
    {
     "data": {
      "text/plain": [
       "<QuerySet [{'id': 1, 'start_time': datetime.datetime(2021, 6, 16, 12, 18, 5, 145019), 'finish_time': datetime.datetime(2021, 6, 16, 12, 18, 5, 824802), 'profile_id': 1}]>"
      ]
     },
     "execution_count": 25,
     "metadata": {},
     "output_type": "execute_result"
    }
   ],
   "source": [
    "pew.follower_lists.values()"
   ]
  },
  {
   "cell_type": "markdown",
   "metadata": {},
   "source": [
    "We can also use a shortcut function on TwitterProfile objects to grab the most recent list"
   ]
  },
  {
   "cell_type": "code",
   "execution_count": 26,
   "metadata": {},
   "outputs": [
    {
     "data": {
      "text/plain": [
       "<TwitterFollowerList: TwitterFollowerList object (1)>"
      ]
     },
     "execution_count": 26,
     "metadata": {},
     "output_type": "execute_result"
    }
   ],
   "source": [
    "pew.current_follower_list()"
   ]
  },
  {
   "cell_type": "markdown",
   "metadata": {},
   "source": [
    "And we can jump directly to the profile objects in that list directly using another shortcut function:"
   ]
  },
  {
   "cell_type": "code",
   "execution_count": 27,
   "metadata": {},
   "outputs": [
    {
     "data": {
      "text/plain": [
       "<QuerySet [<TwitterProfile: 1201619184083439618>, <TwitterProfile: 1346956009768583168>, <TwitterProfile: 52478741>, <TwitterProfile: 30280532>, <TwitterProfile: 1259515289437261824>, <TwitterProfile: 1595924352>, <TwitterProfile: 1267354047217987586>, <TwitterProfile: 1392486817048432642>, <TwitterProfile: 1605273162>, <TwitterProfile: 205131484>, <TwitterProfile: 1143628075214786574>, <TwitterProfile: 1176601698481201152>, <TwitterProfile: 2374126231>, <TwitterProfile: 795357584>, <TwitterProfile: 73904329>, <TwitterProfile: 1371564590962724865>, <TwitterProfile: 1377083428407889924>, <TwitterProfile: 2334602137>, <TwitterProfile: 18156430>, <TwitterProfile: 11037862>, '...(remaining elements truncated)...']>"
      ]
     },
     "execution_count": 27,
     "metadata": {},
     "output_type": "execute_result"
    }
   ],
   "source": [
    "pew.current_followers()"
   ]
  },
  {
   "cell_type": "code",
   "execution_count": 28,
   "metadata": {},
   "outputs": [
    {
     "data": {
      "text/plain": [
       "25"
      ]
     },
     "execution_count": 28,
     "metadata": {},
     "output_type": "execute_result"
    }
   ],
   "source": [
    "pew.current_followers().count()"
   ]
  },
  {
   "cell_type": "markdown",
   "metadata": {},
   "source": [
    "But as you can see, we pretty much just have a list of Twitter IDs"
   ]
  },
  {
   "cell_type": "code",
   "execution_count": 29,
   "metadata": {},
   "outputs": [
    {
     "data": {
      "text/plain": [
       "{'id': 71,\n",
       " 'twitter_id': '1201619184083439618',\n",
       " 'last_update_time': datetime.datetime(2021, 6, 16, 12, 18, 5, 428482),\n",
       " 'historical': False,\n",
       " 'tweet_backfilled': False,\n",
       " 'screen_name': None,\n",
       " 'created_at': None,\n",
       " 'twitter_error_code': None,\n",
       " 'person_id': None,\n",
       " 'organization_id': None,\n",
       " 'most_recent_snapshot_id': None}"
      ]
     },
     "execution_count": 29,
     "metadata": {},
     "output_type": "execute_result"
    }
   ],
   "source": [
    "pew.current_followers().values()[0]"
   ]
  },
  {
   "cell_type": "markdown",
   "metadata": {},
   "source": [
    "If we want to ask Twitter to actually provide us with profile info for each follower, we have to specifically request it - because it eats up a LOT more API quota. To request this data, you just need to pass `--hydrate`"
   ]
  },
  {
   "cell_type": "code",
   "execution_count": 30,
   "metadata": {},
   "outputs": [
    {
     "name": "stderr",
     "output_type": "stream",
     "text": [
      "Retrieving followers for user pewresearch: 25it [00:01, 12.82it/s]\n"
     ]
    }
   ],
   "source": [
    "call_command(\"django_twitter_get_profile_followers\", \"pewresearch\", limit=25, hydrate=True)"
   ]
  },
  {
   "cell_type": "markdown",
   "metadata": {},
   "source": [
    "And now we have actual data, including screen names and profile snapshots"
   ]
  },
  {
   "cell_type": "code",
   "execution_count": 31,
   "metadata": {},
   "outputs": [
    {
     "data": {
      "text/plain": [
       "{'id': 71,\n",
       " 'twitter_id': '1201619184083439618',\n",
       " 'last_update_time': datetime.datetime(2021, 6, 16, 12, 18, 7, 59659),\n",
       " 'historical': False,\n",
       " 'tweet_backfilled': False,\n",
       " 'screen_name': 'thanhds1',\n",
       " 'created_at': datetime.datetime(2019, 12, 2, 15, 48, 50),\n",
       " 'twitter_error_code': None,\n",
       " 'person_id': None,\n",
       " 'organization_id': None,\n",
       " 'most_recent_snapshot_id': 1160}"
      ]
     },
     "execution_count": 31,
     "metadata": {},
     "output_type": "execute_result"
    }
   ],
   "source": [
    "pew.current_followers().values()[0]"
   ]
  },
  {
   "cell_type": "markdown",
   "metadata": {},
   "source": [
    "So we can do fancy things like, see how many of @pewresearch's followers have at least 10 followers themselves"
   ]
  },
  {
   "cell_type": "code",
   "execution_count": 32,
   "metadata": {},
   "outputs": [
    {
     "data": {
      "text/plain": [
       "18"
      ]
     },
     "execution_count": 32,
     "metadata": {},
     "output_type": "execute_result"
    }
   ],
   "source": [
    "pew.current_followers().filter(most_recent_snapshot__followers_count__gte=10).count()"
   ]
  },
  {
   "cell_type": "markdown",
   "metadata": {},
   "source": [
    "Followings works the exact same way - just substitute the word \"follower\" for \"following\""
   ]
  },
  {
   "cell_type": "markdown",
   "metadata": {},
   "source": [
    "## Data auditing utilities (looking for account and coverage errors)"
   ]
  },
  {
   "cell_type": "markdown",
   "metadata": {},
   "source": [
    "When you're working with social media data, there can be a lot of moving parts, and occasionally bad data can slip into your database. Maybe a handle that you got from a third-party list was outdated, or someone gave you a fake username that turned out to be a spam bot, or someone that you've been tracking deleted their profile and it immediately got picked up by a spam bot. There are ways to minimize the risk of all of this happening, but there's no substitute for doing manual spot-checks! Fortunately, Django Twitter offers some utility functions to help you check for weird accounts.\n",
    "\n",
    "In `django_twitter.utils` there are two functions that take a set of profiles and compute their average text similarity to each other by looking at a sample of their recent tweets (`identify_unusual_profiles_by_tweet_text`) or their profile descriptions (`identify_unusual_profiles_by_descriptions`). Usually we're interested in tracking accounts that have something in common - politicians, news organizations, celebrities and other public figures. In some cases, it's reasonable to assume that the accounts in our collection will tweet similar content - or at least, their tweets will be more similar to each other than the tweets produced by a spam bot.\n",
    "\n",
    "In our example, it turns out that Justin Bieber's tweets are so reliably different than the content produced by the Pew Research accounts, that we actually use him in our unit tests. (This - and _not_ the fact that he's the greatest musician of all time - is the reason that he's in our example!)"
   ]
  },
  {
   "cell_type": "code",
   "execution_count": 33,
   "metadata": {},
   "outputs": [],
   "source": [
    "profiles = TwitterProfileSet.objects.get(name=\"my_profile_set\").profiles.all()"
   ]
  },
  {
   "cell_type": "code",
   "execution_count": 34,
   "metadata": {},
   "outputs": [
    {
     "name": "stderr",
     "output_type": "stream",
     "text": [
      "Gathering tweet text: 100%|██████████| 11/11 [00:00<00:00, 78.98it/s]\n"
     ]
    },
    {
     "data": {
      "text/html": [
       "<div>\n",
       "<style scoped>\n",
       "    .dataframe tbody tr th:only-of-type {\n",
       "        vertical-align: middle;\n",
       "    }\n",
       "\n",
       "    .dataframe tbody tr th {\n",
       "        vertical-align: top;\n",
       "    }\n",
       "\n",
       "    .dataframe thead th {\n",
       "        text-align: right;\n",
       "    }\n",
       "</style>\n",
       "<table border=\"1\" class=\"dataframe\">\n",
       "  <thead>\n",
       "    <tr style=\"text-align: right;\">\n",
       "      <th></th>\n",
       "      <th>twitter_id</th>\n",
       "      <th>tweet_text</th>\n",
       "      <th>avg_cosine</th>\n",
       "    </tr>\n",
       "  </thead>\n",
       "  <tbody>\n",
       "    <tr>\n",
       "      <th>4</th>\n",
       "      <td>27260086</td>\n",
       "      <td>RT @MIAFestival: LINEUP ALERT!\\nJustin Bieber,...</td>\n",
       "      <td>0.50205</td>\n",
       "    </tr>\n",
       "  </tbody>\n",
       "</table>\n",
       "</div>"
      ],
      "text/plain": [
       "  twitter_id                                         tweet_text  avg_cosine\n",
       "4   27260086  RT @MIAFestival: LINEUP ALERT!\\nJustin Bieber,...     0.50205"
      ]
     },
     "execution_count": 34,
     "metadata": {},
     "output_type": "execute_result"
    }
   ],
   "source": [
    "from django_twitter.utils import identify_unusual_profiles_by_tweet_text\n",
    "most_similar, most_unique = identify_unusual_profiles_by_tweet_text(profiles)\n",
    "most_unique"
   ]
  },
  {
   "cell_type": "code",
   "execution_count": 35,
   "metadata": {},
   "outputs": [
    {
     "data": {
      "text/html": [
       "<div>\n",
       "<style scoped>\n",
       "    .dataframe tbody tr th:only-of-type {\n",
       "        vertical-align: middle;\n",
       "    }\n",
       "\n",
       "    .dataframe tbody tr th {\n",
       "        vertical-align: top;\n",
       "    }\n",
       "\n",
       "    .dataframe thead th {\n",
       "        text-align: right;\n",
       "    }\n",
       "</style>\n",
       "<table border=\"1\" class=\"dataframe\">\n",
       "  <thead>\n",
       "    <tr style=\"text-align: right;\">\n",
       "      <th></th>\n",
       "      <th>twitter_id</th>\n",
       "      <th>snapshots__description</th>\n",
       "      <th>avg_cosine</th>\n",
       "    </tr>\n",
       "  </thead>\n",
       "  <tbody>\n",
       "    <tr>\n",
       "      <th>5</th>\n",
       "      <td>27260086</td>\n",
       "      <td>JUSTICE the album out now</td>\n",
       "      <td>0.163522</td>\n",
       "    </tr>\n",
       "  </tbody>\n",
       "</table>\n",
       "</div>"
      ],
      "text/plain": [
       "  twitter_id     snapshots__description  avg_cosine\n",
       "5   27260086  JUSTICE the album out now    0.163522"
      ]
     },
     "execution_count": 35,
     "metadata": {},
     "output_type": "execute_result"
    }
   ],
   "source": [
    "from django_twitter.utils import identify_unusual_profiles_by_descriptions\n",
    "most_similar, most_unique = identify_unusual_profiles_by_descriptions(profiles)\n",
    "most_unique"
   ]
  },
  {
   "cell_type": "markdown",
   "metadata": {},
   "source": [
    "Even if you have a perfect account roster with no accidental Biebers, different Twitter accounts posts at different rates, and Twitter only provides each account's ~3200 most recent tweets. If you're interested in doing any sort of historical analysis on any period prior to when you began regular data collection, you're going to need to assess how far back the backfill process got you. You may have years' worth of tweets for some accounts, but only weeks for others. \n",
    "\n",
    "Django Twitter provides two functions to assess tweet coverage over time for a set of profiles you're interested in. The `get_monthly_twitter_activity` function produces a spreadsheet where every row is an account and every column is a month, across whatever timeframe you request. The cells contain how many tweets exist in the database for each profile/month, and if you load this spreadsheet into Excel and do some conditional formatting to highlight empty cells, it makes it super easy to tell how far back you can reasonably analyze data without losing a ton of coverage."
   ]
  },
  {
   "cell_type": "code",
   "execution_count": 36,
   "metadata": {},
   "outputs": [],
   "source": [
    "import datetime\n",
    "from django_twitter.utils import get_monthly_twitter_activity\n",
    "results = get_monthly_twitter_activity(\n",
    "    profiles,\n",
    "    datetime.date(2018, 1, 1),\n",
    "    max_date=datetime.datetime.now().date() + datetime.timedelta(days=1),\n",
    ")"
   ]
  },
  {
   "cell_type": "code",
   "execution_count": 37,
   "metadata": {},
   "outputs": [
    {
     "data": {
      "text/html": [
       "<div>\n",
       "<style scoped>\n",
       "    .dataframe tbody tr th:only-of-type {\n",
       "        vertical-align: middle;\n",
       "    }\n",
       "\n",
       "    .dataframe tbody tr th {\n",
       "        vertical-align: top;\n",
       "    }\n",
       "\n",
       "    .dataframe thead th {\n",
       "        text-align: right;\n",
       "    }\n",
       "</style>\n",
       "<table border=\"1\" class=\"dataframe\">\n",
       "  <thead>\n",
       "    <tr style=\"text-align: right;\">\n",
       "      <th></th>\n",
       "      <th>2020_12</th>\n",
       "      <th>2021_1</th>\n",
       "      <th>2021_2</th>\n",
       "      <th>2021_3</th>\n",
       "      <th>2021_4</th>\n",
       "      <th>2021_5</th>\n",
       "      <th>2021_6</th>\n",
       "      <th>pk</th>\n",
       "      <th>screen_name</th>\n",
       "      <th>created_at</th>\n",
       "      <th>name</th>\n",
       "    </tr>\n",
       "  </thead>\n",
       "  <tbody>\n",
       "    <tr>\n",
       "      <th>5.0</th>\n",
       "      <td>0.0</td>\n",
       "      <td>1.0</td>\n",
       "      <td>0.0</td>\n",
       "      <td>0.0</td>\n",
       "      <td>1.0</td>\n",
       "      <td>3.0</td>\n",
       "      <td>29.0</td>\n",
       "      <td>1.0</td>\n",
       "      <td>pewresearch</td>\n",
       "      <td>2009-03-03 10:39:39</td>\n",
       "      <td>Pew Research Center</td>\n",
       "    </tr>\n",
       "    <tr>\n",
       "      <th>8.0</th>\n",
       "      <td>0.0</td>\n",
       "      <td>0.0</td>\n",
       "      <td>0.0</td>\n",
       "      <td>0.0</td>\n",
       "      <td>0.0</td>\n",
       "      <td>0.0</td>\n",
       "      <td>26.0</td>\n",
       "      <td>2.0</td>\n",
       "      <td>pewglobal</td>\n",
       "      <td>2012-09-18 12:08:41</td>\n",
       "      <td>Pew Research Global</td>\n",
       "    </tr>\n",
       "    <tr>\n",
       "      <th>1.0</th>\n",
       "      <td>0.0</td>\n",
       "      <td>0.0</td>\n",
       "      <td>0.0</td>\n",
       "      <td>0.0</td>\n",
       "      <td>0.0</td>\n",
       "      <td>0.0</td>\n",
       "      <td>25.0</td>\n",
       "      <td>3.0</td>\n",
       "      <td>pewmethods</td>\n",
       "      <td>2015-02-09 16:00:41</td>\n",
       "      <td>Pew Research Methods</td>\n",
       "    </tr>\n",
       "    <tr>\n",
       "      <th>7.0</th>\n",
       "      <td>0.0</td>\n",
       "      <td>0.0</td>\n",
       "      <td>0.0</td>\n",
       "      <td>0.0</td>\n",
       "      <td>0.0</td>\n",
       "      <td>0.0</td>\n",
       "      <td>25.0</td>\n",
       "      <td>4.0</td>\n",
       "      <td>pewjournalism</td>\n",
       "      <td>2010-02-04 09:42:57</td>\n",
       "      <td>Pew Research Journalism</td>\n",
       "    </tr>\n",
       "    <tr>\n",
       "      <th>9.0</th>\n",
       "      <td>0.0</td>\n",
       "      <td>0.0</td>\n",
       "      <td>0.0</td>\n",
       "      <td>0.0</td>\n",
       "      <td>2.0</td>\n",
       "      <td>27.0</td>\n",
       "      <td>2.0</td>\n",
       "      <td>5.0</td>\n",
       "      <td>facttank</td>\n",
       "      <td>2013-03-13 18:41:33</td>\n",
       "      <td>Pew Research Fact Tank</td>\n",
       "    </tr>\n",
       "    <tr>\n",
       "      <th>2.0</th>\n",
       "      <td>0.0</td>\n",
       "      <td>0.0</td>\n",
       "      <td>0.0</td>\n",
       "      <td>0.0</td>\n",
       "      <td>0.0</td>\n",
       "      <td>0.0</td>\n",
       "      <td>25.0</td>\n",
       "      <td>6.0</td>\n",
       "      <td>pewscience</td>\n",
       "      <td>2013-03-12 14:42:00</td>\n",
       "      <td>Pew Research Science</td>\n",
       "    </tr>\n",
       "    <tr>\n",
       "      <th>6.0</th>\n",
       "      <td>0.0</td>\n",
       "      <td>0.0</td>\n",
       "      <td>0.0</td>\n",
       "      <td>0.0</td>\n",
       "      <td>0.0</td>\n",
       "      <td>3.0</td>\n",
       "      <td>22.0</td>\n",
       "      <td>7.0</td>\n",
       "      <td>pewreligion</td>\n",
       "      <td>2009-04-29 15:03:06</td>\n",
       "      <td>Pew Research Religion</td>\n",
       "    </tr>\n",
       "    <tr>\n",
       "      <th>10.0</th>\n",
       "      <td>0.0</td>\n",
       "      <td>0.0</td>\n",
       "      <td>0.0</td>\n",
       "      <td>0.0</td>\n",
       "      <td>5.0</td>\n",
       "      <td>14.0</td>\n",
       "      <td>6.0</td>\n",
       "      <td>8.0</td>\n",
       "      <td>pewhispanic</td>\n",
       "      <td>2011-12-01 13:26:52</td>\n",
       "      <td>PewResearch Hispanic</td>\n",
       "    </tr>\n",
       "    <tr>\n",
       "      <th>0.0</th>\n",
       "      <td>0.0</td>\n",
       "      <td>0.0</td>\n",
       "      <td>0.0</td>\n",
       "      <td>0.0</td>\n",
       "      <td>0.0</td>\n",
       "      <td>0.0</td>\n",
       "      <td>25.0</td>\n",
       "      <td>9.0</td>\n",
       "      <td>pewinternet</td>\n",
       "      <td>2008-10-30 13:40:17</td>\n",
       "      <td>Pew Research Internet</td>\n",
       "    </tr>\n",
       "    <tr>\n",
       "      <th>3.0</th>\n",
       "      <td>1.0</td>\n",
       "      <td>15.0</td>\n",
       "      <td>0.0</td>\n",
       "      <td>8.0</td>\n",
       "      <td>1.0</td>\n",
       "      <td>0.0</td>\n",
       "      <td>0.0</td>\n",
       "      <td>10.0</td>\n",
       "      <td>pvankessel</td>\n",
       "      <td>2012-03-19 22:58:08</td>\n",
       "      <td>Patrick van Kessel</td>\n",
       "    </tr>\n",
       "    <tr>\n",
       "      <th>4.0</th>\n",
       "      <td>0.0</td>\n",
       "      <td>0.0</td>\n",
       "      <td>0.0</td>\n",
       "      <td>0.0</td>\n",
       "      <td>7.0</td>\n",
       "      <td>7.0</td>\n",
       "      <td>11.0</td>\n",
       "      <td>11.0</td>\n",
       "      <td>justinbieber</td>\n",
       "      <td>2009-03-28 11:41:22</td>\n",
       "      <td>Justin Bieber</td>\n",
       "    </tr>\n",
       "  </tbody>\n",
       "</table>\n",
       "</div>"
      ],
      "text/plain": [
       "      2020_12  2021_1  2021_2  2021_3  2021_4  2021_5  2021_6    pk  \\\n",
       "5.0       0.0     1.0     0.0     0.0     1.0     3.0    29.0   1.0   \n",
       "8.0       0.0     0.0     0.0     0.0     0.0     0.0    26.0   2.0   \n",
       "1.0       0.0     0.0     0.0     0.0     0.0     0.0    25.0   3.0   \n",
       "7.0       0.0     0.0     0.0     0.0     0.0     0.0    25.0   4.0   \n",
       "9.0       0.0     0.0     0.0     0.0     2.0    27.0     2.0   5.0   \n",
       "2.0       0.0     0.0     0.0     0.0     0.0     0.0    25.0   6.0   \n",
       "6.0       0.0     0.0     0.0     0.0     0.0     3.0    22.0   7.0   \n",
       "10.0      0.0     0.0     0.0     0.0     5.0    14.0     6.0   8.0   \n",
       "0.0       0.0     0.0     0.0     0.0     0.0     0.0    25.0   9.0   \n",
       "3.0       1.0    15.0     0.0     8.0     1.0     0.0     0.0  10.0   \n",
       "4.0       0.0     0.0     0.0     0.0     7.0     7.0    11.0  11.0   \n",
       "\n",
       "        screen_name          created_at                     name  \n",
       "5.0     pewresearch 2009-03-03 10:39:39      Pew Research Center  \n",
       "8.0       pewglobal 2012-09-18 12:08:41      Pew Research Global  \n",
       "1.0      pewmethods 2015-02-09 16:00:41     Pew Research Methods  \n",
       "7.0   pewjournalism 2010-02-04 09:42:57  Pew Research Journalism  \n",
       "9.0        facttank 2013-03-13 18:41:33   Pew Research Fact Tank  \n",
       "2.0      pewscience 2013-03-12 14:42:00     Pew Research Science  \n",
       "6.0     pewreligion 2009-04-29 15:03:06    Pew Research Religion  \n",
       "10.0    pewhispanic 2011-12-01 13:26:52     PewResearch Hispanic  \n",
       "0.0     pewinternet 2008-10-30 13:40:17    Pew Research Internet  \n",
       "3.0      pvankessel 2012-03-19 22:58:08       Patrick van Kessel  \n",
       "4.0    justinbieber 2009-03-28 11:41:22            Justin Bieber  "
      ]
     },
     "execution_count": 37,
     "metadata": {},
     "output_type": "execute_result"
    }
   ],
   "source": [
    "results"
   ]
  },
  {
   "cell_type": "markdown",
   "metadata": {},
   "source": [
    "The second function, `find_missing_date_ranges`, scans a time period and returns a dataframe of all periods of at least N consecutive days where a profile doesn't have any tweets in the database. This can be useful to search around for weird anomalies that may have been caused by data collection errors, or temporarily suspended accounts, etc."
   ]
  },
  {
   "cell_type": "code",
   "execution_count": 38,
   "metadata": {},
   "outputs": [
    {
     "name": "stderr",
     "output_type": "stream",
     "text": [
      "Scanning profiles for missing dates: 100%|██████████| 11/11 [00:00<00:00, 67.66it/s]\n"
     ]
    }
   ],
   "source": [
    "from django_twitter.utils import find_missing_date_ranges\n",
    "results = find_missing_date_ranges(\n",
    "    profiles,\n",
    "    datetime.date(2021, 1, 1),\n",
    "    max_date=datetime.datetime.now().date() + datetime.timedelta(days=1),\n",
    "    min_consecutive_missing_dates=5,\n",
    ")"
   ]
  },
  {
   "cell_type": "code",
   "execution_count": 39,
   "metadata": {},
   "outputs": [
    {
     "data": {
      "text/html": [
       "<div>\n",
       "<style scoped>\n",
       "    .dataframe tbody tr th:only-of-type {\n",
       "        vertical-align: middle;\n",
       "    }\n",
       "\n",
       "    .dataframe tbody tr th {\n",
       "        vertical-align: top;\n",
       "    }\n",
       "\n",
       "    .dataframe thead th {\n",
       "        text-align: right;\n",
       "    }\n",
       "</style>\n",
       "<table border=\"1\" class=\"dataframe\">\n",
       "  <thead>\n",
       "    <tr style=\"text-align: right;\">\n",
       "      <th></th>\n",
       "      <th>twitter_id</th>\n",
       "      <th>start_date</th>\n",
       "      <th>end_date</th>\n",
       "      <th>range</th>\n",
       "    </tr>\n",
       "  </thead>\n",
       "  <tbody>\n",
       "    <tr>\n",
       "      <th>19</th>\n",
       "      <td>111339670</td>\n",
       "      <td>2021-01-01</td>\n",
       "      <td>2021-06-13</td>\n",
       "      <td>163</td>\n",
       "    </tr>\n",
       "    <tr>\n",
       "      <th>0</th>\n",
       "      <td>17071048</td>\n",
       "      <td>2021-01-01</td>\n",
       "      <td>2021-06-03</td>\n",
       "      <td>153</td>\n",
       "    </tr>\n",
       "    <tr>\n",
       "      <th>2</th>\n",
       "      <td>1262729180</td>\n",
       "      <td>2021-01-01</td>\n",
       "      <td>2021-06-03</td>\n",
       "      <td>153</td>\n",
       "    </tr>\n",
       "    <tr>\n",
       "      <th>1</th>\n",
       "      <td>3015897974</td>\n",
       "      <td>2021-01-01</td>\n",
       "      <td>2021-06-02</td>\n",
       "      <td>152</td>\n",
       "    </tr>\n",
       "    <tr>\n",
       "      <th>20</th>\n",
       "      <td>831470472</td>\n",
       "      <td>2021-01-01</td>\n",
       "      <td>2021-06-01</td>\n",
       "      <td>151</td>\n",
       "    </tr>\n",
       "    <tr>\n",
       "      <th>18</th>\n",
       "      <td>36462231</td>\n",
       "      <td>2021-01-01</td>\n",
       "      <td>2021-05-27</td>\n",
       "      <td>146</td>\n",
       "    </tr>\n",
       "    <tr>\n",
       "      <th>22</th>\n",
       "      <td>1265726480</td>\n",
       "      <td>2021-01-01</td>\n",
       "      <td>2021-04-27</td>\n",
       "      <td>116</td>\n",
       "    </tr>\n",
       "    <tr>\n",
       "      <th>26</th>\n",
       "      <td>426041590</td>\n",
       "      <td>2021-01-01</td>\n",
       "      <td>2021-04-22</td>\n",
       "      <td>111</td>\n",
       "    </tr>\n",
       "    <tr>\n",
       "      <th>14</th>\n",
       "      <td>22642788</td>\n",
       "      <td>2021-01-16</td>\n",
       "      <td>2021-04-30</td>\n",
       "      <td>104</td>\n",
       "    </tr>\n",
       "    <tr>\n",
       "      <th>8</th>\n",
       "      <td>27260086</td>\n",
       "      <td>2021-01-01</td>\n",
       "      <td>2021-04-13</td>\n",
       "      <td>102</td>\n",
       "    </tr>\n",
       "    <tr>\n",
       "      <th>7</th>\n",
       "      <td>530977797</td>\n",
       "      <td>2021-04-27</td>\n",
       "      <td>2021-06-17</td>\n",
       "      <td>51</td>\n",
       "    </tr>\n",
       "    <tr>\n",
       "      <th>6</th>\n",
       "      <td>530977797</td>\n",
       "      <td>2021-03-15</td>\n",
       "      <td>2021-04-26</td>\n",
       "      <td>42</td>\n",
       "    </tr>\n",
       "    <tr>\n",
       "      <th>4</th>\n",
       "      <td>530977797</td>\n",
       "      <td>2021-01-26</td>\n",
       "      <td>2021-03-05</td>\n",
       "      <td>38</td>\n",
       "    </tr>\n",
       "    <tr>\n",
       "      <th>15</th>\n",
       "      <td>22642788</td>\n",
       "      <td>2021-05-05</td>\n",
       "      <td>2021-05-22</td>\n",
       "      <td>17</td>\n",
       "    </tr>\n",
       "    <tr>\n",
       "      <th>13</th>\n",
       "      <td>22642788</td>\n",
       "      <td>2021-01-01</td>\n",
       "      <td>2021-01-15</td>\n",
       "      <td>14</td>\n",
       "    </tr>\n",
       "    <tr>\n",
       "      <th>23</th>\n",
       "      <td>1265726480</td>\n",
       "      <td>2021-05-06</td>\n",
       "      <td>2021-05-20</td>\n",
       "      <td>14</td>\n",
       "    </tr>\n",
       "    <tr>\n",
       "      <th>3</th>\n",
       "      <td>530977797</td>\n",
       "      <td>2021-01-01</td>\n",
       "      <td>2021-01-15</td>\n",
       "      <td>14</td>\n",
       "    </tr>\n",
       "    <tr>\n",
       "      <th>12</th>\n",
       "      <td>27260086</td>\n",
       "      <td>2021-05-25</td>\n",
       "      <td>2021-06-06</td>\n",
       "      <td>12</td>\n",
       "    </tr>\n",
       "    <tr>\n",
       "      <th>21</th>\n",
       "      <td>831470472</td>\n",
       "      <td>2021-06-02</td>\n",
       "      <td>2021-06-12</td>\n",
       "      <td>10</td>\n",
       "    </tr>\n",
       "    <tr>\n",
       "      <th>11</th>\n",
       "      <td>27260086</td>\n",
       "      <td>2021-05-15</td>\n",
       "      <td>2021-05-24</td>\n",
       "      <td>9</td>\n",
       "    </tr>\n",
       "    <tr>\n",
       "      <th>25</th>\n",
       "      <td>1265726480</td>\n",
       "      <td>2021-06-08</td>\n",
       "      <td>2021-06-17</td>\n",
       "      <td>9</td>\n",
       "    </tr>\n",
       "    <tr>\n",
       "      <th>28</th>\n",
       "      <td>426041590</td>\n",
       "      <td>2021-05-26</td>\n",
       "      <td>2021-06-03</td>\n",
       "      <td>8</td>\n",
       "    </tr>\n",
       "    <tr>\n",
       "      <th>16</th>\n",
       "      <td>22642788</td>\n",
       "      <td>2021-05-26</td>\n",
       "      <td>2021-06-02</td>\n",
       "      <td>7</td>\n",
       "    </tr>\n",
       "    <tr>\n",
       "      <th>17</th>\n",
       "      <td>22642788</td>\n",
       "      <td>2021-06-08</td>\n",
       "      <td>2021-06-15</td>\n",
       "      <td>7</td>\n",
       "    </tr>\n",
       "    <tr>\n",
       "      <th>9</th>\n",
       "      <td>27260086</td>\n",
       "      <td>2021-04-14</td>\n",
       "      <td>2021-04-20</td>\n",
       "      <td>6</td>\n",
       "    </tr>\n",
       "    <tr>\n",
       "      <th>27</th>\n",
       "      <td>426041590</td>\n",
       "      <td>2021-05-06</td>\n",
       "      <td>2021-05-12</td>\n",
       "      <td>6</td>\n",
       "    </tr>\n",
       "    <tr>\n",
       "      <th>10</th>\n",
       "      <td>27260086</td>\n",
       "      <td>2021-04-28</td>\n",
       "      <td>2021-05-03</td>\n",
       "      <td>5</td>\n",
       "    </tr>\n",
       "    <tr>\n",
       "      <th>5</th>\n",
       "      <td>530977797</td>\n",
       "      <td>2021-03-09</td>\n",
       "      <td>2021-03-14</td>\n",
       "      <td>5</td>\n",
       "    </tr>\n",
       "    <tr>\n",
       "      <th>24</th>\n",
       "      <td>1265726480</td>\n",
       "      <td>2021-06-02</td>\n",
       "      <td>2021-06-07</td>\n",
       "      <td>5</td>\n",
       "    </tr>\n",
       "    <tr>\n",
       "      <th>29</th>\n",
       "      <td>426041590</td>\n",
       "      <td>2021-06-09</td>\n",
       "      <td>2021-06-14</td>\n",
       "      <td>5</td>\n",
       "    </tr>\n",
       "  </tbody>\n",
       "</table>\n",
       "</div>"
      ],
      "text/plain": [
       "    twitter_id  start_date    end_date  range\n",
       "19   111339670  2021-01-01  2021-06-13    163\n",
       "0     17071048  2021-01-01  2021-06-03    153\n",
       "2   1262729180  2021-01-01  2021-06-03    153\n",
       "1   3015897974  2021-01-01  2021-06-02    152\n",
       "20   831470472  2021-01-01  2021-06-01    151\n",
       "18    36462231  2021-01-01  2021-05-27    146\n",
       "22  1265726480  2021-01-01  2021-04-27    116\n",
       "26   426041590  2021-01-01  2021-04-22    111\n",
       "14    22642788  2021-01-16  2021-04-30    104\n",
       "8     27260086  2021-01-01  2021-04-13    102\n",
       "7    530977797  2021-04-27  2021-06-17     51\n",
       "6    530977797  2021-03-15  2021-04-26     42\n",
       "4    530977797  2021-01-26  2021-03-05     38\n",
       "15    22642788  2021-05-05  2021-05-22     17\n",
       "13    22642788  2021-01-01  2021-01-15     14\n",
       "23  1265726480  2021-05-06  2021-05-20     14\n",
       "3    530977797  2021-01-01  2021-01-15     14\n",
       "12    27260086  2021-05-25  2021-06-06     12\n",
       "21   831470472  2021-06-02  2021-06-12     10\n",
       "11    27260086  2021-05-15  2021-05-24      9\n",
       "25  1265726480  2021-06-08  2021-06-17      9\n",
       "28   426041590  2021-05-26  2021-06-03      8\n",
       "16    22642788  2021-05-26  2021-06-02      7\n",
       "17    22642788  2021-06-08  2021-06-15      7\n",
       "9     27260086  2021-04-14  2021-04-20      6\n",
       "27   426041590  2021-05-06  2021-05-12      6\n",
       "10    27260086  2021-04-28  2021-05-03      5\n",
       "5    530977797  2021-03-09  2021-03-14      5\n",
       "24  1265726480  2021-06-02  2021-06-07      5\n",
       "29   426041590  2021-06-09  2021-06-14      5"
      ]
     },
     "execution_count": 39,
     "metadata": {},
     "output_type": "execute_result"
    }
   ],
   "source": [
    "results"
   ]
  },
  {
   "cell_type": "markdown",
   "metadata": {},
   "source": [
    "## Extracting/exporting data"
   ]
  },
  {
   "cell_type": "markdown",
   "metadata": {},
   "source": [
    "Finally, let's take a look at exporting our data. Often we want a giant spreadsheet of tweets, or a spreadsheet of a profile's data (like follower counts) over time. The `get_twitter_profile_dataframe` can grab the latter for you, and the `get_tweet_dataframe` function gives you the former. Presumably we've inspected our tweet coverage using the functions above and have determined that we don't have any tweet coverage issues, but when it comes to profile data, it's possible that we haven't been collecting that as regularly, or we may have some gaps in our timeseries. To help with this, the `get_twitter_profile_dataframe` function uses linear interpolation (for numerical values) and front-filling (for fixed attributes like descriptions) to fill in gaps where it can and provide you with a complete day-by-day profile dataframe that can be merged in with tweets on the days they were created.\n",
    "\n",
    "Since we just started collecting data, we only have profile snapshots for today. So to illustrate how the interpolation works, we're going to create a fake snapshot on that historic and fateful day when Justin Bieber first joined Twitter in 2009, and we're just going to approximate his followers by assuming that they've increased at a steady linear rate. (This is obviously a poor assumption, but it works really well for shorter periods, which is all you should have to fill in if you've been collecting data at least somewhat regularly and aren't making fake decade-old datapoints like I am.)"
   ]
  },
  {
   "cell_type": "code",
   "execution_count": 40,
   "metadata": {},
   "outputs": [],
   "source": [
    "from testapp.models import TwitterProfileSnapshot\n",
    "justin = TwitterProfile.objects.get(twitter_id=\"27260086\")\n",
    "fake_snapshot = TwitterProfileSnapshot.objects.create(\n",
    "    profile=justin,\n",
    "    screen_name=justin.most_recent_snapshot.screen_name,\n",
    "    followers_count=0,\n",
    "    favorites_count=0,\n",
    "    followings_count=0,\n",
    "    statuses_count=0\n",
    ")\n",
    "fake_snapshot.timestamp = justin.created_at\n",
    "fake_snapshot.save()"
   ]
  },
  {
   "cell_type": "markdown",
   "metadata": {},
   "source": [
    "Now let's get our dataframe"
   ]
  },
  {
   "cell_type": "code",
   "execution_count": 41,
   "metadata": {},
   "outputs": [
    {
     "name": "stderr",
     "output_type": "stream",
     "text": [
      "Extracting Twitter profile snapshots: 100%|██████████| 11/11 [00:01<00:00,  8.11it/s]\n"
     ]
    },
    {
     "data": {
      "text/html": [
       "<div>\n",
       "<style scoped>\n",
       "    .dataframe tbody tr th:only-of-type {\n",
       "        vertical-align: middle;\n",
       "    }\n",
       "\n",
       "    .dataframe tbody tr th {\n",
       "        vertical-align: top;\n",
       "    }\n",
       "\n",
       "    .dataframe thead th {\n",
       "        text-align: right;\n",
       "    }\n",
       "</style>\n",
       "<table border=\"1\" class=\"dataframe\">\n",
       "  <thead>\n",
       "    <tr style=\"text-align: right;\">\n",
       "      <th></th>\n",
       "      <th>date</th>\n",
       "      <th>description</th>\n",
       "      <th>followers_count</th>\n",
       "      <th>favorites_count</th>\n",
       "      <th>followings_count</th>\n",
       "      <th>listed_count</th>\n",
       "      <th>statuses_count</th>\n",
       "      <th>name</th>\n",
       "      <th>screen_name</th>\n",
       "      <th>status</th>\n",
       "      <th>is_verified</th>\n",
       "      <th>is_protected</th>\n",
       "      <th>location</th>\n",
       "      <th>created_at</th>\n",
       "      <th>twitter_error_code</th>\n",
       "      <th>twitter_id</th>\n",
       "      <th>pk</th>\n",
       "    </tr>\n",
       "  </thead>\n",
       "  <tbody>\n",
       "    <tr>\n",
       "      <th>4297</th>\n",
       "      <td>2021-01-01</td>\n",
       "      <td></td>\n",
       "      <td>1.096274e+08</td>\n",
       "      <td>4415.42505</td>\n",
       "      <td>278229.546493</td>\n",
       "      <td>NaN</td>\n",
       "      <td>30208.978714</td>\n",
       "      <td></td>\n",
       "      <td>justinbieber</td>\n",
       "      <td></td>\n",
       "      <td>None</td>\n",
       "      <td>None</td>\n",
       "      <td></td>\n",
       "      <td>2009-03-28 11:41:22</td>\n",
       "      <td>None</td>\n",
       "      <td>27260086</td>\n",
       "      <td>11</td>\n",
       "    </tr>\n",
       "    <tr>\n",
       "      <th>4298</th>\n",
       "      <td>2021-01-02</td>\n",
       "      <td></td>\n",
       "      <td>1.096529e+08</td>\n",
       "      <td>4416.45261</td>\n",
       "      <td>278294.296213</td>\n",
       "      <td>NaN</td>\n",
       "      <td>30216.008963</td>\n",
       "      <td></td>\n",
       "      <td>justinbieber</td>\n",
       "      <td></td>\n",
       "      <td>None</td>\n",
       "      <td>None</td>\n",
       "      <td></td>\n",
       "      <td>2009-03-28 11:41:22</td>\n",
       "      <td>None</td>\n",
       "      <td>27260086</td>\n",
       "      <td>11</td>\n",
       "    </tr>\n",
       "    <tr>\n",
       "      <th>4299</th>\n",
       "      <td>2021-01-03</td>\n",
       "      <td></td>\n",
       "      <td>1.096785e+08</td>\n",
       "      <td>4417.48017</td>\n",
       "      <td>278359.045933</td>\n",
       "      <td>NaN</td>\n",
       "      <td>30223.039211</td>\n",
       "      <td></td>\n",
       "      <td>justinbieber</td>\n",
       "      <td></td>\n",
       "      <td>None</td>\n",
       "      <td>None</td>\n",
       "      <td></td>\n",
       "      <td>2009-03-28 11:41:22</td>\n",
       "      <td>None</td>\n",
       "      <td>27260086</td>\n",
       "      <td>11</td>\n",
       "    </tr>\n",
       "    <tr>\n",
       "      <th>4300</th>\n",
       "      <td>2021-01-04</td>\n",
       "      <td></td>\n",
       "      <td>1.097040e+08</td>\n",
       "      <td>4418.50773</td>\n",
       "      <td>278423.795653</td>\n",
       "      <td>NaN</td>\n",
       "      <td>30230.069460</td>\n",
       "      <td></td>\n",
       "      <td>justinbieber</td>\n",
       "      <td></td>\n",
       "      <td>None</td>\n",
       "      <td>None</td>\n",
       "      <td></td>\n",
       "      <td>2009-03-28 11:41:22</td>\n",
       "      <td>None</td>\n",
       "      <td>27260086</td>\n",
       "      <td>11</td>\n",
       "    </tr>\n",
       "    <tr>\n",
       "      <th>4301</th>\n",
       "      <td>2021-01-05</td>\n",
       "      <td></td>\n",
       "      <td>1.097295e+08</td>\n",
       "      <td>4419.53529</td>\n",
       "      <td>278488.545373</td>\n",
       "      <td>NaN</td>\n",
       "      <td>30237.099709</td>\n",
       "      <td></td>\n",
       "      <td>justinbieber</td>\n",
       "      <td></td>\n",
       "      <td>None</td>\n",
       "      <td>None</td>\n",
       "      <td></td>\n",
       "      <td>2009-03-28 11:41:22</td>\n",
       "      <td>None</td>\n",
       "      <td>27260086</td>\n",
       "      <td>11</td>\n",
       "    </tr>\n",
       "    <tr>\n",
       "      <th>...</th>\n",
       "      <td>...</td>\n",
       "      <td>...</td>\n",
       "      <td>...</td>\n",
       "      <td>...</td>\n",
       "      <td>...</td>\n",
       "      <td>...</td>\n",
       "      <td>...</td>\n",
       "      <td>...</td>\n",
       "      <td>...</td>\n",
       "      <td>...</td>\n",
       "      <td>...</td>\n",
       "      <td>...</td>\n",
       "      <td>...</td>\n",
       "      <td>...</td>\n",
       "      <td>...</td>\n",
       "      <td>...</td>\n",
       "      <td>...</td>\n",
       "    </tr>\n",
       "    <tr>\n",
       "      <th>4459</th>\n",
       "      <td>2021-06-12</td>\n",
       "      <td></td>\n",
       "      <td>1.137605e+08</td>\n",
       "      <td>4581.88976</td>\n",
       "      <td>288719.001120</td>\n",
       "      <td>NaN</td>\n",
       "      <td>31347.879005</td>\n",
       "      <td></td>\n",
       "      <td>justinbieber</td>\n",
       "      <td></td>\n",
       "      <td>None</td>\n",
       "      <td>None</td>\n",
       "      <td></td>\n",
       "      <td>2009-03-28 11:41:22</td>\n",
       "      <td>None</td>\n",
       "      <td>27260086</td>\n",
       "      <td>11</td>\n",
       "    </tr>\n",
       "    <tr>\n",
       "      <th>4460</th>\n",
       "      <td>2021-06-13</td>\n",
       "      <td></td>\n",
       "      <td>1.137860e+08</td>\n",
       "      <td>4582.91732</td>\n",
       "      <td>288783.750840</td>\n",
       "      <td>NaN</td>\n",
       "      <td>31354.909254</td>\n",
       "      <td></td>\n",
       "      <td>justinbieber</td>\n",
       "      <td></td>\n",
       "      <td>None</td>\n",
       "      <td>None</td>\n",
       "      <td></td>\n",
       "      <td>2009-03-28 11:41:22</td>\n",
       "      <td>None</td>\n",
       "      <td>27260086</td>\n",
       "      <td>11</td>\n",
       "    </tr>\n",
       "    <tr>\n",
       "      <th>4461</th>\n",
       "      <td>2021-06-14</td>\n",
       "      <td></td>\n",
       "      <td>1.138115e+08</td>\n",
       "      <td>4583.94488</td>\n",
       "      <td>288848.500560</td>\n",
       "      <td>NaN</td>\n",
       "      <td>31361.939503</td>\n",
       "      <td></td>\n",
       "      <td>justinbieber</td>\n",
       "      <td></td>\n",
       "      <td>None</td>\n",
       "      <td>None</td>\n",
       "      <td></td>\n",
       "      <td>2009-03-28 11:41:22</td>\n",
       "      <td>None</td>\n",
       "      <td>27260086</td>\n",
       "      <td>11</td>\n",
       "    </tr>\n",
       "    <tr>\n",
       "      <th>4462</th>\n",
       "      <td>2021-06-15</td>\n",
       "      <td></td>\n",
       "      <td>1.138370e+08</td>\n",
       "      <td>4584.97244</td>\n",
       "      <td>288913.250280</td>\n",
       "      <td>NaN</td>\n",
       "      <td>31368.969751</td>\n",
       "      <td></td>\n",
       "      <td>justinbieber</td>\n",
       "      <td></td>\n",
       "      <td>None</td>\n",
       "      <td>None</td>\n",
       "      <td></td>\n",
       "      <td>2009-03-28 11:41:22</td>\n",
       "      <td>None</td>\n",
       "      <td>27260086</td>\n",
       "      <td>11</td>\n",
       "    </tr>\n",
       "    <tr>\n",
       "      <th>4463</th>\n",
       "      <td>2021-06-16</td>\n",
       "      <td>JUSTICE the album out now</td>\n",
       "      <td>1.138625e+08</td>\n",
       "      <td>4586.00000</td>\n",
       "      <td>288978.000000</td>\n",
       "      <td>543022.0</td>\n",
       "      <td>31376.000000</td>\n",
       "      <td>Justin Bieber</td>\n",
       "      <td>justinbieber</td>\n",
       "      <td>RT @MIAFestival: LINEUP ALERT!\\nJustin Bieber,...</td>\n",
       "      <td>True</td>\n",
       "      <td>False</td>\n",
       "      <td>The 6</td>\n",
       "      <td>2009-03-28 11:41:22</td>\n",
       "      <td>None</td>\n",
       "      <td>27260086</td>\n",
       "      <td>11</td>\n",
       "    </tr>\n",
       "  </tbody>\n",
       "</table>\n",
       "<p>167 rows × 17 columns</p>\n",
       "</div>"
      ],
      "text/plain": [
       "            date                description  followers_count  favorites_count  \\\n",
       "4297  2021-01-01                                1.096274e+08       4415.42505   \n",
       "4298  2021-01-02                                1.096529e+08       4416.45261   \n",
       "4299  2021-01-03                                1.096785e+08       4417.48017   \n",
       "4300  2021-01-04                                1.097040e+08       4418.50773   \n",
       "4301  2021-01-05                                1.097295e+08       4419.53529   \n",
       "...          ...                        ...              ...              ...   \n",
       "4459  2021-06-12                                1.137605e+08       4581.88976   \n",
       "4460  2021-06-13                                1.137860e+08       4582.91732   \n",
       "4461  2021-06-14                                1.138115e+08       4583.94488   \n",
       "4462  2021-06-15                                1.138370e+08       4584.97244   \n",
       "4463  2021-06-16  JUSTICE the album out now     1.138625e+08       4586.00000   \n",
       "\n",
       "      followings_count  listed_count  statuses_count           name  \\\n",
       "4297     278229.546493           NaN    30208.978714                  \n",
       "4298     278294.296213           NaN    30216.008963                  \n",
       "4299     278359.045933           NaN    30223.039211                  \n",
       "4300     278423.795653           NaN    30230.069460                  \n",
       "4301     278488.545373           NaN    30237.099709                  \n",
       "...                ...           ...             ...            ...   \n",
       "4459     288719.001120           NaN    31347.879005                  \n",
       "4460     288783.750840           NaN    31354.909254                  \n",
       "4461     288848.500560           NaN    31361.939503                  \n",
       "4462     288913.250280           NaN    31368.969751                  \n",
       "4463     288978.000000      543022.0    31376.000000  Justin Bieber   \n",
       "\n",
       "       screen_name                                             status  \\\n",
       "4297  justinbieber                                                      \n",
       "4298  justinbieber                                                      \n",
       "4299  justinbieber                                                      \n",
       "4300  justinbieber                                                      \n",
       "4301  justinbieber                                                      \n",
       "...            ...                                                ...   \n",
       "4459  justinbieber                                                      \n",
       "4460  justinbieber                                                      \n",
       "4461  justinbieber                                                      \n",
       "4462  justinbieber                                                      \n",
       "4463  justinbieber  RT @MIAFestival: LINEUP ALERT!\\nJustin Bieber,...   \n",
       "\n",
       "     is_verified is_protected location          created_at twitter_error_code  \\\n",
       "4297        None         None          2009-03-28 11:41:22               None   \n",
       "4298        None         None          2009-03-28 11:41:22               None   \n",
       "4299        None         None          2009-03-28 11:41:22               None   \n",
       "4300        None         None          2009-03-28 11:41:22               None   \n",
       "4301        None         None          2009-03-28 11:41:22               None   \n",
       "...          ...          ...      ...                 ...                ...   \n",
       "4459        None         None          2009-03-28 11:41:22               None   \n",
       "4460        None         None          2009-03-28 11:41:22               None   \n",
       "4461        None         None          2009-03-28 11:41:22               None   \n",
       "4462        None         None          2009-03-28 11:41:22               None   \n",
       "4463        True        False    The 6 2009-03-28 11:41:22               None   \n",
       "\n",
       "     twitter_id  pk  \n",
       "4297   27260086  11  \n",
       "4298   27260086  11  \n",
       "4299   27260086  11  \n",
       "4300   27260086  11  \n",
       "4301   27260086  11  \n",
       "...         ...  ..  \n",
       "4459   27260086  11  \n",
       "4460   27260086  11  \n",
       "4461   27260086  11  \n",
       "4462   27260086  11  \n",
       "4463   27260086  11  \n",
       "\n",
       "[167 rows x 17 columns]"
      ]
     },
     "execution_count": 41,
     "metadata": {},
     "output_type": "execute_result"
    }
   ],
   "source": [
    "from django_twitter.utils import get_twitter_profile_dataframe\n",
    "df = get_twitter_profile_dataframe(\n",
    "    profiles, datetime.datetime(2021, 1, 1), datetime.datetime.now(), skip_interpolation=False\n",
    ")\n",
    "df[df['twitter_id']==\"27260086\"].dropna(subset=['followers_count'])"
   ]
  },
  {
   "cell_type": "markdown",
   "metadata": {},
   "source": [
    "If we want tweets, it's a very similar process"
   ]
  },
  {
   "cell_type": "code",
   "execution_count": 42,
   "metadata": {},
   "outputs": [
    {
     "data": {
      "text/html": [
       "<div>\n",
       "<style scoped>\n",
       "    .dataframe tbody tr th:only-of-type {\n",
       "        vertical-align: middle;\n",
       "    }\n",
       "\n",
       "    .dataframe tbody tr th {\n",
       "        vertical-align: top;\n",
       "    }\n",
       "\n",
       "    .dataframe thead th {\n",
       "        text-align: right;\n",
       "    }\n",
       "</style>\n",
       "<table border=\"1\" class=\"dataframe\">\n",
       "  <thead>\n",
       "    <tr style=\"text-align: right;\">\n",
       "      <th></th>\n",
       "      <th>pk</th>\n",
       "      <th>twitter_id</th>\n",
       "      <th>last_update_time</th>\n",
       "      <th>historical</th>\n",
       "      <th>created_at</th>\n",
       "      <th>text</th>\n",
       "      <th>retweet_count</th>\n",
       "      <th>favorite_count</th>\n",
       "      <th>profile</th>\n",
       "      <th>retweeted_status</th>\n",
       "      <th>in_reply_to_status</th>\n",
       "      <th>quoted_status</th>\n",
       "      <th>date</th>\n",
       "    </tr>\n",
       "  </thead>\n",
       "  <tbody>\n",
       "    <tr>\n",
       "      <th>0</th>\n",
       "      <td>28</td>\n",
       "      <td>1404865073684828161</td>\n",
       "      <td>2021-06-16 12:17:57.082522-04:00</td>\n",
       "      <td>False</td>\n",
       "      <td>2021-06-15 13:15:09-04:00</td>\n",
       "      <td>@Katrina_HRM You might also enjoy our short em...</td>\n",
       "      <td>1</td>\n",
       "      <td>2</td>\n",
       "      <td>22642788</td>\n",
       "      <td>None</td>\n",
       "      <td>1404850695715659777</td>\n",
       "      <td>None</td>\n",
       "      <td>2021-06-15</td>\n",
       "    </tr>\n",
       "    <tr>\n",
       "      <th>1</th>\n",
       "      <td>39</td>\n",
       "      <td>1405210870247051270</td>\n",
       "      <td>2021-06-16 12:17:50.759735-04:00</td>\n",
       "      <td>False</td>\n",
       "      <td>2021-06-16 12:09:13-04:00</td>\n",
       "      <td>On average, posts with neither a positive nor ...</td>\n",
       "      <td>1</td>\n",
       "      <td>0</td>\n",
       "      <td>111339670</td>\n",
       "      <td>None</td>\n",
       "      <td>1405210867109699591</td>\n",
       "      <td>None</td>\n",
       "      <td>2021-06-16</td>\n",
       "    </tr>\n",
       "    <tr>\n",
       "      <th>2</th>\n",
       "      <td>40</td>\n",
       "      <td>1405210867109699591</td>\n",
       "      <td>2021-06-16 12:17:50.826009-04:00</td>\n",
       "      <td>False</td>\n",
       "      <td>2021-06-16 12:09:12-04:00</td>\n",
       "      <td>In early March 2021, Facebook posts with a pos...</td>\n",
       "      <td>1</td>\n",
       "      <td>0</td>\n",
       "      <td>111339670</td>\n",
       "      <td>None</td>\n",
       "      <td>1405210863901057034</td>\n",
       "      <td>None</td>\n",
       "      <td>2021-06-16</td>\n",
       "    </tr>\n",
       "    <tr>\n",
       "      <th>3</th>\n",
       "      <td>56</td>\n",
       "      <td>1402689641619333126</td>\n",
       "      <td>2021-06-16 12:17:48.123364-04:00</td>\n",
       "      <td>False</td>\n",
       "      <td>2021-06-09 13:10:45-04:00</td>\n",
       "      <td>5/5 Learn more about our American Trends Panel...</td>\n",
       "      <td>0</td>\n",
       "      <td>0</td>\n",
       "      <td>3015897974</td>\n",
       "      <td>None</td>\n",
       "      <td>1402689567317270538</td>\n",
       "      <td>None</td>\n",
       "      <td>2021-06-09</td>\n",
       "    </tr>\n",
       "    <tr>\n",
       "      <th>4</th>\n",
       "      <td>57</td>\n",
       "      <td>1402689567317270538</td>\n",
       "      <td>2021-06-16 12:17:48.167531-04:00</td>\n",
       "      <td>False</td>\n",
       "      <td>2021-06-09 13:10:28-04:00</td>\n",
       "      <td>4/ A new @pewresearch methodological report, b...</td>\n",
       "      <td>0</td>\n",
       "      <td>1</td>\n",
       "      <td>3015897974</td>\n",
       "      <td>None</td>\n",
       "      <td>1402689503475769344</td>\n",
       "      <td>None</td>\n",
       "      <td>2021-06-09</td>\n",
       "    </tr>\n",
       "    <tr>\n",
       "      <th>...</th>\n",
       "      <td>...</td>\n",
       "      <td>...</td>\n",
       "      <td>...</td>\n",
       "      <td>...</td>\n",
       "      <td>...</td>\n",
       "      <td>...</td>\n",
       "      <td>...</td>\n",
       "      <td>...</td>\n",
       "      <td>...</td>\n",
       "      <td>...</td>\n",
       "      <td>...</td>\n",
       "      <td>...</td>\n",
       "      <td>...</td>\n",
       "    </tr>\n",
       "    <tr>\n",
       "      <th>285</th>\n",
       "      <td>21</td>\n",
       "      <td>1404940033216466950</td>\n",
       "      <td>2021-06-16 12:17:56.252245-04:00</td>\n",
       "      <td>False</td>\n",
       "      <td>2021-06-15 18:13:01-04:00</td>\n",
       "      <td>RT @kat_devlin: Views of NATO, 2009-21 https:/...</td>\n",
       "      <td>5</td>\n",
       "      <td>0</td>\n",
       "      <td>22642788</td>\n",
       "      <td>1404807694696030215</td>\n",
       "      <td>None</td>\n",
       "      <td>None</td>\n",
       "      <td>2021-06-15</td>\n",
       "    </tr>\n",
       "    <tr>\n",
       "      <th>286</th>\n",
       "      <td>153</td>\n",
       "      <td>1404822466858471428</td>\n",
       "      <td>2021-06-16 12:17:53.218184-04:00</td>\n",
       "      <td>False</td>\n",
       "      <td>2021-06-15 10:25:51-04:00</td>\n",
       "      <td>RT @kat_devlin: Views of NATO, 2009-21 https:/...</td>\n",
       "      <td>5</td>\n",
       "      <td>0</td>\n",
       "      <td>831470472</td>\n",
       "      <td>1404807694696030215</td>\n",
       "      <td>None</td>\n",
       "      <td>None</td>\n",
       "      <td>2021-06-15</td>\n",
       "    </tr>\n",
       "    <tr>\n",
       "      <th>287</th>\n",
       "      <td>1</td>\n",
       "      <td>1405210666189852674</td>\n",
       "      <td>2021-06-16 12:17:55.405359-04:00</td>\n",
       "      <td>False</td>\n",
       "      <td>2021-06-16 12:08:25-04:00</td>\n",
       "      <td>RT @_StephKramer: 1. New analysis: Americans l...</td>\n",
       "      <td>4</td>\n",
       "      <td>0</td>\n",
       "      <td>22642788</td>\n",
       "      <td>1405208831538438145</td>\n",
       "      <td>None</td>\n",
       "      <td>None</td>\n",
       "      <td>2021-06-16</td>\n",
       "    </tr>\n",
       "    <tr>\n",
       "      <th>288</th>\n",
       "      <td>174</td>\n",
       "      <td>1405176896237809667</td>\n",
       "      <td>2021-06-16 12:17:50.454931-04:00</td>\n",
       "      <td>False</td>\n",
       "      <td>2021-06-16 09:54:13-04:00</td>\n",
       "      <td>RT @pewresearch: Americans with any religious ...</td>\n",
       "      <td>4</td>\n",
       "      <td>0</td>\n",
       "      <td>36462231</td>\n",
       "      <td>1405156974631829504</td>\n",
       "      <td>None</td>\n",
       "      <td>None</td>\n",
       "      <td>2021-06-16</td>\n",
       "    </tr>\n",
       "    <tr>\n",
       "      <th>289</th>\n",
       "      <td>7</td>\n",
       "      <td>1405168472305328138</td>\n",
       "      <td>2021-06-16 12:17:55.651298-04:00</td>\n",
       "      <td>False</td>\n",
       "      <td>2021-06-16 09:20:45-04:00</td>\n",
       "      <td>RT @lrainie: Experts Doubt Ethical AI Design W...</td>\n",
       "      <td>12</td>\n",
       "      <td>0</td>\n",
       "      <td>22642788</td>\n",
       "      <td>1405166515754786819</td>\n",
       "      <td>None</td>\n",
       "      <td>None</td>\n",
       "      <td>2021-06-16</td>\n",
       "    </tr>\n",
       "  </tbody>\n",
       "</table>\n",
       "<p>290 rows × 13 columns</p>\n",
       "</div>"
      ],
      "text/plain": [
       "      pk           twitter_id                 last_update_time  historical  \\\n",
       "0     28  1404865073684828161 2021-06-16 12:17:57.082522-04:00       False   \n",
       "1     39  1405210870247051270 2021-06-16 12:17:50.759735-04:00       False   \n",
       "2     40  1405210867109699591 2021-06-16 12:17:50.826009-04:00       False   \n",
       "3     56  1402689641619333126 2021-06-16 12:17:48.123364-04:00       False   \n",
       "4     57  1402689567317270538 2021-06-16 12:17:48.167531-04:00       False   \n",
       "..   ...                  ...                              ...         ...   \n",
       "285   21  1404940033216466950 2021-06-16 12:17:56.252245-04:00       False   \n",
       "286  153  1404822466858471428 2021-06-16 12:17:53.218184-04:00       False   \n",
       "287    1  1405210666189852674 2021-06-16 12:17:55.405359-04:00       False   \n",
       "288  174  1405176896237809667 2021-06-16 12:17:50.454931-04:00       False   \n",
       "289    7  1405168472305328138 2021-06-16 12:17:55.651298-04:00       False   \n",
       "\n",
       "                   created_at  \\\n",
       "0   2021-06-15 13:15:09-04:00   \n",
       "1   2021-06-16 12:09:13-04:00   \n",
       "2   2021-06-16 12:09:12-04:00   \n",
       "3   2021-06-09 13:10:45-04:00   \n",
       "4   2021-06-09 13:10:28-04:00   \n",
       "..                        ...   \n",
       "285 2021-06-15 18:13:01-04:00   \n",
       "286 2021-06-15 10:25:51-04:00   \n",
       "287 2021-06-16 12:08:25-04:00   \n",
       "288 2021-06-16 09:54:13-04:00   \n",
       "289 2021-06-16 09:20:45-04:00   \n",
       "\n",
       "                                                  text  retweet_count  \\\n",
       "0    @Katrina_HRM You might also enjoy our short em...              1   \n",
       "1    On average, posts with neither a positive nor ...              1   \n",
       "2    In early March 2021, Facebook posts with a pos...              1   \n",
       "3    5/5 Learn more about our American Trends Panel...              0   \n",
       "4    4/ A new @pewresearch methodological report, b...              0   \n",
       "..                                                 ...            ...   \n",
       "285  RT @kat_devlin: Views of NATO, 2009-21 https:/...              5   \n",
       "286  RT @kat_devlin: Views of NATO, 2009-21 https:/...              5   \n",
       "287  RT @_StephKramer: 1. New analysis: Americans l...              4   \n",
       "288  RT @pewresearch: Americans with any religious ...              4   \n",
       "289  RT @lrainie: Experts Doubt Ethical AI Design W...             12   \n",
       "\n",
       "     favorite_count     profile     retweeted_status   in_reply_to_status  \\\n",
       "0                 2    22642788                 None  1404850695715659777   \n",
       "1                 0   111339670                 None  1405210867109699591   \n",
       "2                 0   111339670                 None  1405210863901057034   \n",
       "3                 0  3015897974                 None  1402689567317270538   \n",
       "4                 1  3015897974                 None  1402689503475769344   \n",
       "..              ...         ...                  ...                  ...   \n",
       "285               0    22642788  1404807694696030215                 None   \n",
       "286               0   831470472  1404807694696030215                 None   \n",
       "287               0    22642788  1405208831538438145                 None   \n",
       "288               0    36462231  1405156974631829504                 None   \n",
       "289               0    22642788  1405166515754786819                 None   \n",
       "\n",
       "    quoted_status        date  \n",
       "0            None  2021-06-15  \n",
       "1            None  2021-06-16  \n",
       "2            None  2021-06-16  \n",
       "3            None  2021-06-09  \n",
       "4            None  2021-06-09  \n",
       "..            ...         ...  \n",
       "285          None  2021-06-15  \n",
       "286          None  2021-06-15  \n",
       "287          None  2021-06-16  \n",
       "288          None  2021-06-16  \n",
       "289          None  2021-06-16  \n",
       "\n",
       "[290 rows x 13 columns]"
      ]
     },
     "execution_count": 42,
     "metadata": {},
     "output_type": "execute_result"
    }
   ],
   "source": [
    "from django_twitter.utils import get_tweet_dataframe\n",
    "get_tweet_dataframe(\n",
    "    profiles, datetime.datetime(2021, 1, 1), datetime.datetime.now()\n",
    ")"
   ]
  },
  {
   "cell_type": "code",
   "execution_count": 43,
   "metadata": {},
   "outputs": [
    {
     "data": {
      "text/html": [
       "<div>\n",
       "<style scoped>\n",
       "    .dataframe tbody tr th:only-of-type {\n",
       "        vertical-align: middle;\n",
       "    }\n",
       "\n",
       "    .dataframe tbody tr th {\n",
       "        vertical-align: top;\n",
       "    }\n",
       "\n",
       "    .dataframe thead th {\n",
       "        text-align: right;\n",
       "    }\n",
       "</style>\n",
       "<table border=\"1\" class=\"dataframe\">\n",
       "  <thead>\n",
       "    <tr style=\"text-align: right;\">\n",
       "      <th></th>\n",
       "      <th>pk</th>\n",
       "      <th>twitter_id</th>\n",
       "      <th>last_update_time</th>\n",
       "      <th>historical</th>\n",
       "      <th>created_at</th>\n",
       "      <th>text</th>\n",
       "      <th>retweet_count</th>\n",
       "      <th>favorite_count</th>\n",
       "      <th>profile</th>\n",
       "      <th>retweeted_status</th>\n",
       "      <th>in_reply_to_status</th>\n",
       "      <th>quoted_status</th>\n",
       "      <th>date</th>\n",
       "    </tr>\n",
       "  </thead>\n",
       "  <tbody>\n",
       "    <tr>\n",
       "      <th>0</th>\n",
       "      <td>28</td>\n",
       "      <td>1404865073684828161</td>\n",
       "      <td>2021-06-16 12:17:57.082522-04:00</td>\n",
       "      <td>False</td>\n",
       "      <td>2021-06-15 13:15:09-04:00</td>\n",
       "      <td>@Katrina_HRM You might also enjoy our short em...</td>\n",
       "      <td>1</td>\n",
       "      <td>2</td>\n",
       "      <td>22642788</td>\n",
       "      <td>None</td>\n",
       "      <td>1404850695715659777</td>\n",
       "      <td>None</td>\n",
       "      <td>2021-06-15</td>\n",
       "    </tr>\n",
       "    <tr>\n",
       "      <th>1</th>\n",
       "      <td>39</td>\n",
       "      <td>1405210870247051270</td>\n",
       "      <td>2021-06-16 12:17:50.759735-04:00</td>\n",
       "      <td>False</td>\n",
       "      <td>2021-06-16 12:09:13-04:00</td>\n",
       "      <td>On average, posts with neither a positive nor ...</td>\n",
       "      <td>1</td>\n",
       "      <td>0</td>\n",
       "      <td>111339670</td>\n",
       "      <td>None</td>\n",
       "      <td>1405210867109699591</td>\n",
       "      <td>None</td>\n",
       "      <td>2021-06-16</td>\n",
       "    </tr>\n",
       "    <tr>\n",
       "      <th>2</th>\n",
       "      <td>40</td>\n",
       "      <td>1405210867109699591</td>\n",
       "      <td>2021-06-16 12:17:50.826009-04:00</td>\n",
       "      <td>False</td>\n",
       "      <td>2021-06-16 12:09:12-04:00</td>\n",
       "      <td>In early March 2021, Facebook posts with a pos...</td>\n",
       "      <td>1</td>\n",
       "      <td>0</td>\n",
       "      <td>111339670</td>\n",
       "      <td>None</td>\n",
       "      <td>1405210863901057034</td>\n",
       "      <td>None</td>\n",
       "      <td>2021-06-16</td>\n",
       "    </tr>\n",
       "    <tr>\n",
       "      <th>3</th>\n",
       "      <td>56</td>\n",
       "      <td>1402689641619333126</td>\n",
       "      <td>2021-06-16 12:17:48.123364-04:00</td>\n",
       "      <td>False</td>\n",
       "      <td>2021-06-09 13:10:45-04:00</td>\n",
       "      <td>5/5 Learn more about our American Trends Panel...</td>\n",
       "      <td>0</td>\n",
       "      <td>0</td>\n",
       "      <td>3015897974</td>\n",
       "      <td>None</td>\n",
       "      <td>1402689567317270538</td>\n",
       "      <td>None</td>\n",
       "      <td>2021-06-09</td>\n",
       "    </tr>\n",
       "    <tr>\n",
       "      <th>4</th>\n",
       "      <td>57</td>\n",
       "      <td>1402689567317270538</td>\n",
       "      <td>2021-06-16 12:17:48.167531-04:00</td>\n",
       "      <td>False</td>\n",
       "      <td>2021-06-09 13:10:28-04:00</td>\n",
       "      <td>4/ A new @pewresearch methodological report, b...</td>\n",
       "      <td>0</td>\n",
       "      <td>1</td>\n",
       "      <td>3015897974</td>\n",
       "      <td>None</td>\n",
       "      <td>1402689503475769344</td>\n",
       "      <td>None</td>\n",
       "      <td>2021-06-09</td>\n",
       "    </tr>\n",
       "    <tr>\n",
       "      <th>...</th>\n",
       "      <td>...</td>\n",
       "      <td>...</td>\n",
       "      <td>...</td>\n",
       "      <td>...</td>\n",
       "      <td>...</td>\n",
       "      <td>...</td>\n",
       "      <td>...</td>\n",
       "      <td>...</td>\n",
       "      <td>...</td>\n",
       "      <td>...</td>\n",
       "      <td>...</td>\n",
       "      <td>...</td>\n",
       "      <td>...</td>\n",
       "    </tr>\n",
       "    <tr>\n",
       "      <th>285</th>\n",
       "      <td>21</td>\n",
       "      <td>1404940033216466950</td>\n",
       "      <td>2021-06-16 12:17:56.252245-04:00</td>\n",
       "      <td>False</td>\n",
       "      <td>2021-06-15 18:13:01-04:00</td>\n",
       "      <td>RT @kat_devlin: Views of NATO, 2009-21 https:/...</td>\n",
       "      <td>5</td>\n",
       "      <td>0</td>\n",
       "      <td>22642788</td>\n",
       "      <td>1404807694696030215</td>\n",
       "      <td>None</td>\n",
       "      <td>None</td>\n",
       "      <td>2021-06-15</td>\n",
       "    </tr>\n",
       "    <tr>\n",
       "      <th>286</th>\n",
       "      <td>153</td>\n",
       "      <td>1404822466858471428</td>\n",
       "      <td>2021-06-16 12:17:53.218184-04:00</td>\n",
       "      <td>False</td>\n",
       "      <td>2021-06-15 10:25:51-04:00</td>\n",
       "      <td>RT @kat_devlin: Views of NATO, 2009-21 https:/...</td>\n",
       "      <td>5</td>\n",
       "      <td>0</td>\n",
       "      <td>831470472</td>\n",
       "      <td>1404807694696030215</td>\n",
       "      <td>None</td>\n",
       "      <td>None</td>\n",
       "      <td>2021-06-15</td>\n",
       "    </tr>\n",
       "    <tr>\n",
       "      <th>287</th>\n",
       "      <td>1</td>\n",
       "      <td>1405210666189852674</td>\n",
       "      <td>2021-06-16 12:17:55.405359-04:00</td>\n",
       "      <td>False</td>\n",
       "      <td>2021-06-16 12:08:25-04:00</td>\n",
       "      <td>RT @_StephKramer: 1. New analysis: Americans l...</td>\n",
       "      <td>4</td>\n",
       "      <td>0</td>\n",
       "      <td>22642788</td>\n",
       "      <td>1405208831538438145</td>\n",
       "      <td>None</td>\n",
       "      <td>None</td>\n",
       "      <td>2021-06-16</td>\n",
       "    </tr>\n",
       "    <tr>\n",
       "      <th>288</th>\n",
       "      <td>174</td>\n",
       "      <td>1405176896237809667</td>\n",
       "      <td>2021-06-16 12:17:50.454931-04:00</td>\n",
       "      <td>False</td>\n",
       "      <td>2021-06-16 09:54:13-04:00</td>\n",
       "      <td>RT @pewresearch: Americans with any religious ...</td>\n",
       "      <td>4</td>\n",
       "      <td>0</td>\n",
       "      <td>36462231</td>\n",
       "      <td>1405156974631829504</td>\n",
       "      <td>None</td>\n",
       "      <td>None</td>\n",
       "      <td>2021-06-16</td>\n",
       "    </tr>\n",
       "    <tr>\n",
       "      <th>289</th>\n",
       "      <td>7</td>\n",
       "      <td>1405168472305328138</td>\n",
       "      <td>2021-06-16 12:17:55.651298-04:00</td>\n",
       "      <td>False</td>\n",
       "      <td>2021-06-16 09:20:45-04:00</td>\n",
       "      <td>RT @lrainie: Experts Doubt Ethical AI Design W...</td>\n",
       "      <td>12</td>\n",
       "      <td>0</td>\n",
       "      <td>22642788</td>\n",
       "      <td>1405166515754786819</td>\n",
       "      <td>None</td>\n",
       "      <td>None</td>\n",
       "      <td>2021-06-16</td>\n",
       "    </tr>\n",
       "  </tbody>\n",
       "</table>\n",
       "<p>290 rows × 13 columns</p>\n",
       "</div>"
      ],
      "text/plain": [
       "      pk           twitter_id                 last_update_time  historical  \\\n",
       "0     28  1404865073684828161 2021-06-16 12:17:57.082522-04:00       False   \n",
       "1     39  1405210870247051270 2021-06-16 12:17:50.759735-04:00       False   \n",
       "2     40  1405210867109699591 2021-06-16 12:17:50.826009-04:00       False   \n",
       "3     56  1402689641619333126 2021-06-16 12:17:48.123364-04:00       False   \n",
       "4     57  1402689567317270538 2021-06-16 12:17:48.167531-04:00       False   \n",
       "..   ...                  ...                              ...         ...   \n",
       "285   21  1404940033216466950 2021-06-16 12:17:56.252245-04:00       False   \n",
       "286  153  1404822466858471428 2021-06-16 12:17:53.218184-04:00       False   \n",
       "287    1  1405210666189852674 2021-06-16 12:17:55.405359-04:00       False   \n",
       "288  174  1405176896237809667 2021-06-16 12:17:50.454931-04:00       False   \n",
       "289    7  1405168472305328138 2021-06-16 12:17:55.651298-04:00       False   \n",
       "\n",
       "                   created_at  \\\n",
       "0   2021-06-15 13:15:09-04:00   \n",
       "1   2021-06-16 12:09:13-04:00   \n",
       "2   2021-06-16 12:09:12-04:00   \n",
       "3   2021-06-09 13:10:45-04:00   \n",
       "4   2021-06-09 13:10:28-04:00   \n",
       "..                        ...   \n",
       "285 2021-06-15 18:13:01-04:00   \n",
       "286 2021-06-15 10:25:51-04:00   \n",
       "287 2021-06-16 12:08:25-04:00   \n",
       "288 2021-06-16 09:54:13-04:00   \n",
       "289 2021-06-16 09:20:45-04:00   \n",
       "\n",
       "                                                  text  retweet_count  \\\n",
       "0    @Katrina_HRM You might also enjoy our short em...              1   \n",
       "1    On average, posts with neither a positive nor ...              1   \n",
       "2    In early March 2021, Facebook posts with a pos...              1   \n",
       "3    5/5 Learn more about our American Trends Panel...              0   \n",
       "4    4/ A new @pewresearch methodological report, b...              0   \n",
       "..                                                 ...            ...   \n",
       "285  RT @kat_devlin: Views of NATO, 2009-21 https:/...              5   \n",
       "286  RT @kat_devlin: Views of NATO, 2009-21 https:/...              5   \n",
       "287  RT @_StephKramer: 1. New analysis: Americans l...              4   \n",
       "288  RT @pewresearch: Americans with any religious ...              4   \n",
       "289  RT @lrainie: Experts Doubt Ethical AI Design W...             12   \n",
       "\n",
       "     favorite_count     profile     retweeted_status   in_reply_to_status  \\\n",
       "0                 2    22642788                 None  1404850695715659777   \n",
       "1                 0   111339670                 None  1405210867109699591   \n",
       "2                 0   111339670                 None  1405210863901057034   \n",
       "3                 0  3015897974                 None  1402689567317270538   \n",
       "4                 1  3015897974                 None  1402689503475769344   \n",
       "..              ...         ...                  ...                  ...   \n",
       "285               0    22642788  1404807694696030215                 None   \n",
       "286               0   831470472  1404807694696030215                 None   \n",
       "287               0    22642788  1405208831538438145                 None   \n",
       "288               0    36462231  1405156974631829504                 None   \n",
       "289               0    22642788  1405166515754786819                 None   \n",
       "\n",
       "    quoted_status        date  \n",
       "0            None  2021-06-15  \n",
       "1            None  2021-06-16  \n",
       "2            None  2021-06-16  \n",
       "3            None  2021-06-09  \n",
       "4            None  2021-06-09  \n",
       "..            ...         ...  \n",
       "285          None  2021-06-15  \n",
       "286          None  2021-06-15  \n",
       "287          None  2021-06-16  \n",
       "288          None  2021-06-16  \n",
       "289          None  2021-06-16  \n",
       "\n",
       "[290 rows x 13 columns]"
      ]
     },
     "execution_count": 43,
     "metadata": {},
     "output_type": "execute_result"
    }
   ],
   "source": [
    "from django_twitter.utils import get_tweet_dataframe\n",
    "profiles = TwitterProfileSet.objects.get(name=\"my_profile_set\").profiles.all()\n",
    "get_tweet_dataframe(\n",
    "    profiles, datetime.datetime(2021, 1, 1), datetime.datetime.now()\n",
    ")"
   ]
  }
 ],
 "metadata": {
  "kernelspec": {
   "display_name": "Python 3",
   "language": "python",
   "name": "python3"
  },
  "language_info": {
   "codemirror_mode": {
    "name": "ipython",
    "version": 3
   },
   "file_extension": ".py",
   "mimetype": "text/x-python",
   "name": "python",
   "nbconvert_exporter": "python",
   "pygments_lexer": "ipython3",
   "version": "3.6.5"
  }
 },
 "nbformat": 4,
 "nbformat_minor": 2
}